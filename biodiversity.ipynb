{
 "cells": [
  {
   "cell_type": "markdown",
   "metadata": {},
   "source": [
    "Biodiversity in US National Parks\n",
    "Project Scope\n",
    "\n",
    "1. How many species per category?\n",
    "2. Break-down of categories per conservation status\n",
    "3. Which category is most likely to be endangered?\n",
    "4. How many observations per category?\n",
    "5. What's the most common animal?\n",
    "6. Chi squared - sneak peek and refresher"
   ]
  },
  {
   "cell_type": "code",
   "execution_count": 2,
   "metadata": {},
   "outputs": [],
   "source": [
    "import pandas as pd\n",
    "import matplotlib.pyplot as plt\n",
    "import seaborn as sns"
   ]
  },
  {
   "cell_type": "code",
   "execution_count": 3,
   "metadata": {},
   "outputs": [],
   "source": [
    "#creating dataframes\n",
    "species_info = pd.read_csv('species_info.csv',encoding='utf-8')\n",
    "species_info.drop_duplicates(keep='first', inplace=True)\n",
    "observations = pd.read_csv('observations.csv',encoding='utf-8')\n",
    "observations.drop_duplicates(keep='first', inplace=True)"
   ]
  },
  {
   "cell_type": "markdown",
   "metadata": {},
   "source": [
    "### Inspecting 'species_info.csv'"
   ]
  },
  {
   "cell_type": "markdown",
   "metadata": {},
   "source": [
    "'species_info.csv' consists pf 5824 entries and describes animals and plants by listing their (1) category, (2) scientific name, (3) common name(s) and (4) their conservation status. Some initial insights:\n",
    "* the conservation status has a lot of null values\n",
    "* some scientific names are duplicated (5541 unique scientific names vs. 5824 entries in the dataset)"
   ]
  },
  {
   "cell_type": "code",
   "execution_count": 19,
   "metadata": {},
   "outputs": [
    {
     "name": "stdout",
     "output_type": "stream",
     "text": [
      "##################################\n",
      "General info:\n",
      "<class 'pandas.core.frame.DataFrame'>\n",
      "RangeIndex: 5824 entries, 0 to 5823\n",
      "Data columns (total 4 columns):\n",
      " #   Column               Non-Null Count  Dtype \n",
      "---  ------               --------------  ----- \n",
      " 0   category             5824 non-null   object\n",
      " 1   scientific_name      5824 non-null   object\n",
      " 2   common_names         5824 non-null   object\n",
      " 3   conservation_status  191 non-null    object\n",
      "dtypes: object(4)\n",
      "memory usage: 182.1+ KB\n",
      "None\n",
      "##################################\n",
      "Column names and data types:\n",
      "category               object\n",
      "scientific_name        object\n",
      "common_names           object\n",
      "conservation_status    object\n",
      "dtype: object\n",
      "##################################\n",
      "Number of rows and columns:\n",
      "(5824, 4)\n",
      "##################################\n",
      "Conservation status values:\n",
      "[nan 'Species of Concern' 'Endangered' 'Threatened' 'In Recovery']\n",
      "##################################\n",
      "Animal/plant categories:\n",
      "['Mammal' 'Bird' 'Reptile' 'Amphibian' 'Fish' 'Vascular Plant'\n",
      " 'Nonvascular Plant']\n",
      "##################################\n",
      "How many animals/plants\n",
      "5541\n",
      "##################################\n",
      "Sample of the dataframe:\n"
     ]
    },
    {
     "data": {
      "text/html": [
       "<div>\n",
       "<style scoped>\n",
       "    .dataframe tbody tr th:only-of-type {\n",
       "        vertical-align: middle;\n",
       "    }\n",
       "\n",
       "    .dataframe tbody tr th {\n",
       "        vertical-align: top;\n",
       "    }\n",
       "\n",
       "    .dataframe thead th {\n",
       "        text-align: right;\n",
       "    }\n",
       "</style>\n",
       "<table border=\"1\" class=\"dataframe\">\n",
       "  <thead>\n",
       "    <tr style=\"text-align: right;\">\n",
       "      <th></th>\n",
       "      <th>category</th>\n",
       "      <th>scientific_name</th>\n",
       "      <th>common_names</th>\n",
       "      <th>conservation_status</th>\n",
       "    </tr>\n",
       "  </thead>\n",
       "  <tbody>\n",
       "    <tr>\n",
       "      <th>0</th>\n",
       "      <td>Mammal</td>\n",
       "      <td>Clethrionomys gapperi gapperi</td>\n",
       "      <td>Gapper's Red-Backed Vole</td>\n",
       "      <td>NaN</td>\n",
       "    </tr>\n",
       "    <tr>\n",
       "      <th>1</th>\n",
       "      <td>Mammal</td>\n",
       "      <td>Bos bison</td>\n",
       "      <td>American Bison, Bison</td>\n",
       "      <td>NaN</td>\n",
       "    </tr>\n",
       "    <tr>\n",
       "      <th>2</th>\n",
       "      <td>Mammal</td>\n",
       "      <td>Bos taurus</td>\n",
       "      <td>Aurochs, Aurochs, Domestic Cattle (Feral), Dom...</td>\n",
       "      <td>NaN</td>\n",
       "    </tr>\n",
       "    <tr>\n",
       "      <th>3</th>\n",
       "      <td>Mammal</td>\n",
       "      <td>Ovis aries</td>\n",
       "      <td>Domestic Sheep, Mouflon, Red Sheep, Sheep (Feral)</td>\n",
       "      <td>NaN</td>\n",
       "    </tr>\n",
       "    <tr>\n",
       "      <th>4</th>\n",
       "      <td>Mammal</td>\n",
       "      <td>Cervus elaphus</td>\n",
       "      <td>Wapiti Or Elk</td>\n",
       "      <td>NaN</td>\n",
       "    </tr>\n",
       "  </tbody>\n",
       "</table>\n",
       "</div>"
      ],
      "text/plain": [
       "  category                scientific_name  \\\n",
       "0   Mammal  Clethrionomys gapperi gapperi   \n",
       "1   Mammal                      Bos bison   \n",
       "2   Mammal                     Bos taurus   \n",
       "3   Mammal                     Ovis aries   \n",
       "4   Mammal                 Cervus elaphus   \n",
       "\n",
       "                                        common_names conservation_status  \n",
       "0                           Gapper's Red-Backed Vole                 NaN  \n",
       "1                              American Bison, Bison                 NaN  \n",
       "2  Aurochs, Aurochs, Domestic Cattle (Feral), Dom...                 NaN  \n",
       "3  Domestic Sheep, Mouflon, Red Sheep, Sheep (Feral)                 NaN  \n",
       "4                                      Wapiti Or Elk                 NaN  "
      ]
     },
     "execution_count": 19,
     "metadata": {},
     "output_type": "execute_result"
    }
   ],
   "source": [
    "print('##################################')\n",
    "print('General info:')\n",
    "print(species_info.info())\n",
    "print('##################################')\n",
    "print('Column names and data types:')\n",
    "print(species_info.dtypes)\n",
    "print('##################################')\n",
    "print('Number of rows and columns:')\n",
    "print(species_info.shape)\n",
    "print('##################################')\n",
    "print('Conservation status values:')\n",
    "print(species_info.conservation_status.unique())\n",
    "print('##################################')\n",
    "print('Animal/plant categories:')\n",
    "print(species_info.category.unique())\n",
    "print('##################################')\n",
    "print('How many animals/plants')\n",
    "print(len(observations.scientific_name.unique()))\n",
    "print('##################################')\n",
    "print('Sample of the dataframe:')\n",
    "species_info.head()\n"
   ]
  },
  {
   "cell_type": "markdown",
   "metadata": {},
   "source": [
    "According to the information provided along with the dataset, the missing information about the conservation status denotes the species is of no concern. The nan values have thus been filled as \"Species of no concern\". Additionally, the conservation status values have been reorganized into ordered categories with \"Endangared\" at the bottom and \"Species of no concern\" at the top."
   ]
  },
  {
   "cell_type": "code",
   "execution_count": 4,
   "metadata": {},
   "outputs": [
    {
     "name": "stdout",
     "output_type": "stream",
     "text": [
      "['Endangered', 'In Recovery', 'Species of Concern', 'Species of no concern', 'Threatened']\n",
      "Categories (5, object): ['Endangered', 'In Recovery', 'Species of Concern', 'Species of no concern', 'Threatened']\n"
     ]
    }
   ],
   "source": [
    "#filling in nans\n",
    "species_info['conservation_status'] = species_info['conservation_status'].fillna('Species of no concern')\n",
    "\n",
    "#creating categorical data out of conservation status\n",
    "species_info[\"conservation_status\"] = species_info[\"conservation_status\"].astype(\"category\")\n",
    "species_info[\"conservation_status\"].cat.reorder_categories(['Endangered', 'Threatened', 'Species of Concern', 'In Recovery', 'Species of no concern'], ordered=True)\n",
    "species_info.sort_values(by='conservation_status', inplace=True, ascending=True)\n",
    "\n",
    "#checking uniques\n",
    "print(species_info.conservation_status.unique())"
   ]
  },
  {
   "cell_type": "markdown",
   "metadata": {},
   "source": [
    "The duplicated scientific names are due to inconsistent use of common names, as seen below. These entries will stay as is and should not affect our analysis."
   ]
  },
  {
   "cell_type": "code",
   "execution_count": 5,
   "metadata": {},
   "outputs": [
    {
     "data": {
      "text/html": [
       "<div>\n",
       "<style scoped>\n",
       "    .dataframe tbody tr th:only-of-type {\n",
       "        vertical-align: middle;\n",
       "    }\n",
       "\n",
       "    .dataframe tbody tr th {\n",
       "        vertical-align: top;\n",
       "    }\n",
       "\n",
       "    .dataframe thead th {\n",
       "        text-align: right;\n",
       "    }\n",
       "</style>\n",
       "<table border=\"1\" class=\"dataframe\">\n",
       "  <thead>\n",
       "    <tr style=\"text-align: right;\">\n",
       "      <th></th>\n",
       "      <th>index</th>\n",
       "      <th>category</th>\n",
       "      <th>scientific_name</th>\n",
       "      <th>common_names</th>\n",
       "      <th>conservation_status</th>\n",
       "      <th>duplicate</th>\n",
       "    </tr>\n",
       "  </thead>\n",
       "  <tbody>\n",
       "    <tr>\n",
       "      <th>429</th>\n",
       "      <td>632</td>\n",
       "      <td>Vascular Plant</td>\n",
       "      <td>Zizia aptera</td>\n",
       "      <td>Golden Alexanders</td>\n",
       "      <td>Species of no concern</td>\n",
       "      <td>True</td>\n",
       "    </tr>\n",
       "    <tr>\n",
       "      <th>132</th>\n",
       "      <td>3347</td>\n",
       "      <td>Vascular Plant</td>\n",
       "      <td>Zizia aptera</td>\n",
       "      <td>Heartleaf Alexanders, Heart-Leaf Alexanders, M...</td>\n",
       "      <td>Species of no concern</td>\n",
       "      <td>True</td>\n",
       "    </tr>\n",
       "    <tr>\n",
       "      <th>487</th>\n",
       "      <td>2331</td>\n",
       "      <td>Vascular Plant</td>\n",
       "      <td>Vulpia octoflora</td>\n",
       "      <td>Annual Fescue</td>\n",
       "      <td>Species of no concern</td>\n",
       "      <td>True</td>\n",
       "    </tr>\n",
       "    <tr>\n",
       "      <th>89</th>\n",
       "      <td>4290</td>\n",
       "      <td>Vascular Plant</td>\n",
       "      <td>Vulpia octoflora</td>\n",
       "      <td>Eight-Flower Six-Weeks Grass, Pullout Grass, S...</td>\n",
       "      <td>Species of no concern</td>\n",
       "      <td>True</td>\n",
       "    </tr>\n",
       "    <tr>\n",
       "      <th>237</th>\n",
       "      <td>5643</td>\n",
       "      <td>Vascular Plant</td>\n",
       "      <td>Vulpia myuros</td>\n",
       "      <td>Foxtail Fescue, Rattail Fescue, Rat-Tail Fescu...</td>\n",
       "      <td>Species of no concern</td>\n",
       "      <td>True</td>\n",
       "    </tr>\n",
       "    <tr>\n",
       "      <th>488</th>\n",
       "      <td>2330</td>\n",
       "      <td>Vascular Plant</td>\n",
       "      <td>Vulpia myuros</td>\n",
       "      <td>Rattail Fescue</td>\n",
       "      <td>Species of no concern</td>\n",
       "      <td>True</td>\n",
       "    </tr>\n",
       "    <tr>\n",
       "      <th>246</th>\n",
       "      <td>5640</td>\n",
       "      <td>Vascular Plant</td>\n",
       "      <td>Vulpia bromoides</td>\n",
       "      <td>Brome Fescue, Brome Six-Weeks Grass, Desert Fe...</td>\n",
       "      <td>Species of no concern</td>\n",
       "      <td>True</td>\n",
       "    </tr>\n",
       "    <tr>\n",
       "      <th>489</th>\n",
       "      <td>2329</td>\n",
       "      <td>Vascular Plant</td>\n",
       "      <td>Vulpia bromoides</td>\n",
       "      <td>Fescue</td>\n",
       "      <td>Species of no concern</td>\n",
       "      <td>True</td>\n",
       "    </tr>\n",
       "    <tr>\n",
       "      <th>111</th>\n",
       "      <td>3231</td>\n",
       "      <td>Bird</td>\n",
       "      <td>Vireo solitarius</td>\n",
       "      <td>Blue-Headed Vireo</td>\n",
       "      <td>Species of no concern</td>\n",
       "      <td>True</td>\n",
       "    </tr>\n",
       "    <tr>\n",
       "      <th>398</th>\n",
       "      <td>328</td>\n",
       "      <td>Bird</td>\n",
       "      <td>Vireo solitarius</td>\n",
       "      <td>Blue-Headed Vireo, Solitary Vireo</td>\n",
       "      <td>Species of no concern</td>\n",
       "      <td>True</td>\n",
       "    </tr>\n",
       "  </tbody>\n",
       "</table>\n",
       "</div>"
      ],
      "text/plain": [
       "     index        category   scientific_name  \\\n",
       "429    632  Vascular Plant      Zizia aptera   \n",
       "132   3347  Vascular Plant      Zizia aptera   \n",
       "487   2331  Vascular Plant  Vulpia octoflora   \n",
       "89    4290  Vascular Plant  Vulpia octoflora   \n",
       "237   5643  Vascular Plant     Vulpia myuros   \n",
       "488   2330  Vascular Plant     Vulpia myuros   \n",
       "246   5640  Vascular Plant  Vulpia bromoides   \n",
       "489   2329  Vascular Plant  Vulpia bromoides   \n",
       "111   3231            Bird  Vireo solitarius   \n",
       "398    328            Bird  Vireo solitarius   \n",
       "\n",
       "                                          common_names    conservation_status  \\\n",
       "429                                  Golden Alexanders  Species of no concern   \n",
       "132  Heartleaf Alexanders, Heart-Leaf Alexanders, M...  Species of no concern   \n",
       "487                                      Annual Fescue  Species of no concern   \n",
       "89   Eight-Flower Six-Weeks Grass, Pullout Grass, S...  Species of no concern   \n",
       "237  Foxtail Fescue, Rattail Fescue, Rat-Tail Fescu...  Species of no concern   \n",
       "488                                     Rattail Fescue  Species of no concern   \n",
       "246  Brome Fescue, Brome Six-Weeks Grass, Desert Fe...  Species of no concern   \n",
       "489                                             Fescue  Species of no concern   \n",
       "111                                  Blue-Headed Vireo  Species of no concern   \n",
       "398                  Blue-Headed Vireo, Solitary Vireo  Species of no concern   \n",
       "\n",
       "     duplicate  \n",
       "429       True  \n",
       "132       True  \n",
       "487       True  \n",
       "89        True  \n",
       "237       True  \n",
       "488       True  \n",
       "246       True  \n",
       "489       True  \n",
       "111       True  \n",
       "398       True  "
      ]
     },
     "execution_count": 5,
     "metadata": {},
     "output_type": "execute_result"
    }
   ],
   "source": [
    "species_info['duplicate'] = species_info.duplicated(subset=['scientific_name'],keep=False)\n",
    "#creating a temporary df with only duplicate entries\n",
    "species_info_dup = species_info[species_info.duplicate == True].reset_index()\n",
    "#dropping the duplicate column from the main df\n",
    "species_info.drop(labels='duplicate', axis=1, inplace=True)\n",
    "species_info_dup.sort_values(by='scientific_name', inplace=True, ascending=False)\n",
    "#checking a few duplicated entries\n",
    "species_info_dup.head(10)\n"
   ]
  },
  {
   "cell_type": "code",
   "execution_count": 8,
   "metadata": {},
   "outputs": [
    {
     "data": {
      "text/html": [
       "<div>\n",
       "<style scoped>\n",
       "    .dataframe tbody tr th:only-of-type {\n",
       "        vertical-align: middle;\n",
       "    }\n",
       "\n",
       "    .dataframe tbody tr th {\n",
       "        vertical-align: top;\n",
       "    }\n",
       "\n",
       "    .dataframe thead th {\n",
       "        text-align: right;\n",
       "    }\n",
       "</style>\n",
       "<table border=\"1\" class=\"dataframe\">\n",
       "  <thead>\n",
       "    <tr style=\"text-align: right;\">\n",
       "      <th></th>\n",
       "      <th>category</th>\n",
       "      <th>scientific_name</th>\n",
       "      <th>common_names</th>\n",
       "      <th>conservation_status</th>\n",
       "      <th>Kingdom</th>\n",
       "    </tr>\n",
       "  </thead>\n",
       "  <tbody>\n",
       "    <tr>\n",
       "      <th>276</th>\n",
       "      <td>Bird</td>\n",
       "      <td>Vermivora bachmanii</td>\n",
       "      <td>Bachman's Warbler, Bachman's Wood Warbler</td>\n",
       "      <td>Endangered</td>\n",
       "      <td>Animal</td>\n",
       "    </tr>\n",
       "    <tr>\n",
       "      <th>173</th>\n",
       "      <td>Bird</td>\n",
       "      <td>Grus americana</td>\n",
       "      <td>Whooping Crane</td>\n",
       "      <td>Endangered</td>\n",
       "      <td>Animal</td>\n",
       "    </tr>\n",
       "    <tr>\n",
       "      <th>34</th>\n",
       "      <td>Mammal</td>\n",
       "      <td>Myotis grisescens</td>\n",
       "      <td>Gray Myotis</td>\n",
       "      <td>Endangered</td>\n",
       "      <td>Animal</td>\n",
       "    </tr>\n",
       "    <tr>\n",
       "      <th>3275</th>\n",
       "      <td>Fish</td>\n",
       "      <td>Chasmistes liorus</td>\n",
       "      <td>June Sucker</td>\n",
       "      <td>Endangered</td>\n",
       "      <td>Animal</td>\n",
       "    </tr>\n",
       "    <tr>\n",
       "      <th>4601</th>\n",
       "      <td>Amphibian</td>\n",
       "      <td>Rana sierrae</td>\n",
       "      <td>Sierra Nevada Yellow-Legged Frog</td>\n",
       "      <td>Endangered</td>\n",
       "      <td>Animal</td>\n",
       "    </tr>\n",
       "  </tbody>\n",
       "</table>\n",
       "</div>"
      ],
      "text/plain": [
       "       category      scientific_name  \\\n",
       "276        Bird  Vermivora bachmanii   \n",
       "173        Bird       Grus americana   \n",
       "34       Mammal    Myotis grisescens   \n",
       "3275       Fish    Chasmistes liorus   \n",
       "4601  Amphibian         Rana sierrae   \n",
       "\n",
       "                                   common_names conservation_status Kingdom  \n",
       "276   Bachman's Warbler, Bachman's Wood Warbler          Endangered  Animal  \n",
       "173                              Whooping Crane          Endangered  Animal  \n",
       "34                                  Gray Myotis          Endangered  Animal  \n",
       "3275                                June Sucker          Endangered  Animal  \n",
       "4601           Sierra Nevada Yellow-Legged Frog          Endangered  Animal  "
      ]
     },
     "execution_count": 8,
     "metadata": {},
     "output_type": "execute_result"
    }
   ],
   "source": [
    "def kingdom_check(x):\n",
    "    if x in ['Vascular Plant', 'Nonvascular Plant']:\n",
    "        return 'Plant'\n",
    "    else:\n",
    "        return 'Animal'\n",
    "species_info['Kingdom'] = species_info.category.apply(kingdom_check)\n",
    "species_info.head()"
   ]
  },
  {
   "cell_type": "markdown",
   "metadata": {},
   "source": [
    "### Inspecting 'observations.csv'"
   ]
  },
  {
   "cell_type": "markdown",
   "metadata": {},
   "source": [
    "'observations.csv' lists sightings of individual species including (1) their scientific name, (2) the park name that reported the sightings, (3) the total number of reported sightings (i.e. observations) for the given entry. No modifications of the dataset are necessary."
   ]
  },
  {
   "cell_type": "code",
   "execution_count": 29,
   "metadata": {},
   "outputs": [
    {
     "name": "stdout",
     "output_type": "stream",
     "text": [
      "##################################\n",
      "General info:\n",
      "<class 'pandas.core.frame.DataFrame'>\n",
      "RangeIndex: 23296 entries, 0 to 23295\n",
      "Data columns (total 3 columns):\n",
      " #   Column           Non-Null Count  Dtype \n",
      "---  ------           --------------  ----- \n",
      " 0   scientific_name  23296 non-null  object\n",
      " 1   park_name        23296 non-null  object\n",
      " 2   observations     23296 non-null  int64 \n",
      "dtypes: int64(1), object(2)\n",
      "memory usage: 546.1+ KB\n",
      "None\n",
      "##################################\n",
      "Column names and data types:\n",
      "scientific_name    object\n",
      "park_name          object\n",
      "observations        int64\n",
      "dtype: object\n",
      "##################################\n",
      "Number of rows and columns:\n",
      "(23296, 3)\n",
      "##################################\n",
      "List park names\n",
      "['Great Smoky Mountains National Park' 'Yosemite National Park'\n",
      " 'Bryce National Park' 'Yellowstone National Park']\n",
      "##################################\n",
      "Checking if the number of unique scientific_names is equal between the two DFs\n",
      "True\n",
      "##################################\n",
      "Sample of the DF:\n"
     ]
    },
    {
     "data": {
      "text/html": [
       "<div>\n",
       "<style scoped>\n",
       "    .dataframe tbody tr th:only-of-type {\n",
       "        vertical-align: middle;\n",
       "    }\n",
       "\n",
       "    .dataframe tbody tr th {\n",
       "        vertical-align: top;\n",
       "    }\n",
       "\n",
       "    .dataframe thead th {\n",
       "        text-align: right;\n",
       "    }\n",
       "</style>\n",
       "<table border=\"1\" class=\"dataframe\">\n",
       "  <thead>\n",
       "    <tr style=\"text-align: right;\">\n",
       "      <th></th>\n",
       "      <th>scientific_name</th>\n",
       "      <th>park_name</th>\n",
       "      <th>observations</th>\n",
       "    </tr>\n",
       "  </thead>\n",
       "  <tbody>\n",
       "    <tr>\n",
       "      <th>0</th>\n",
       "      <td>Vicia benghalensis</td>\n",
       "      <td>Great Smoky Mountains National Park</td>\n",
       "      <td>68</td>\n",
       "    </tr>\n",
       "    <tr>\n",
       "      <th>1</th>\n",
       "      <td>Neovison vison</td>\n",
       "      <td>Great Smoky Mountains National Park</td>\n",
       "      <td>77</td>\n",
       "    </tr>\n",
       "    <tr>\n",
       "      <th>2</th>\n",
       "      <td>Prunus subcordata</td>\n",
       "      <td>Yosemite National Park</td>\n",
       "      <td>138</td>\n",
       "    </tr>\n",
       "    <tr>\n",
       "      <th>3</th>\n",
       "      <td>Abutilon theophrasti</td>\n",
       "      <td>Bryce National Park</td>\n",
       "      <td>84</td>\n",
       "    </tr>\n",
       "    <tr>\n",
       "      <th>4</th>\n",
       "      <td>Githopsis specularioides</td>\n",
       "      <td>Great Smoky Mountains National Park</td>\n",
       "      <td>85</td>\n",
       "    </tr>\n",
       "  </tbody>\n",
       "</table>\n",
       "</div>"
      ],
      "text/plain": [
       "            scientific_name                            park_name  observations\n",
       "0        Vicia benghalensis  Great Smoky Mountains National Park            68\n",
       "1            Neovison vison  Great Smoky Mountains National Park            77\n",
       "2         Prunus subcordata               Yosemite National Park           138\n",
       "3      Abutilon theophrasti                  Bryce National Park            84\n",
       "4  Githopsis specularioides  Great Smoky Mountains National Park            85"
      ]
     },
     "execution_count": 29,
     "metadata": {},
     "output_type": "execute_result"
    }
   ],
   "source": [
    "#taking a first look at the observations df\n",
    "print('##################################')\n",
    "print('General info:')\n",
    "print(observations.info())\n",
    "print('##################################')\n",
    "print('Column names and data types:')\n",
    "print(observations.dtypes)\n",
    "print('##################################')\n",
    "print('Number of rows and columns:')\n",
    "print(observations.shape)\n",
    "print('##################################')\n",
    "print('List park names')\n",
    "print(observations.park_name.unique())\n",
    "print('##################################')\n",
    "print('The number of unique scientific_names is equal between the two DFs:')\n",
    "print(len(species_info.scientific_name.unique())==len(observations.scientific_name.unique()))\n",
    "print('##################################')\n",
    "print('Sample of the DF:')\n",
    "observations.head()\n"
   ]
  },
  {
   "cell_type": "markdown",
   "metadata": {},
   "source": [
    "# Analysis\n",
    "## Species per category"
   ]
  },
  {
   "cell_type": "code",
   "execution_count": 9,
   "metadata": {},
   "outputs": [
    {
     "data": {
      "text/html": [
       "<div>\n",
       "<style scoped>\n",
       "    .dataframe tbody tr th:only-of-type {\n",
       "        vertical-align: middle;\n",
       "    }\n",
       "\n",
       "    .dataframe tbody tr th {\n",
       "        vertical-align: top;\n",
       "    }\n",
       "\n",
       "    .dataframe thead th {\n",
       "        text-align: right;\n",
       "    }\n",
       "</style>\n",
       "<table border=\"1\" class=\"dataframe\">\n",
       "  <thead>\n",
       "    <tr style=\"text-align: right;\">\n",
       "      <th></th>\n",
       "      <th>category</th>\n",
       "      <th>Count</th>\n",
       "      <th>Percentage</th>\n",
       "    </tr>\n",
       "  </thead>\n",
       "  <tbody>\n",
       "    <tr>\n",
       "      <th>0</th>\n",
       "      <td>Amphibian</td>\n",
       "      <td>80</td>\n",
       "      <td>1.373626</td>\n",
       "    </tr>\n",
       "    <tr>\n",
       "      <th>1</th>\n",
       "      <td>Bird</td>\n",
       "      <td>521</td>\n",
       "      <td>8.945742</td>\n",
       "    </tr>\n",
       "    <tr>\n",
       "      <th>2</th>\n",
       "      <td>Fish</td>\n",
       "      <td>127</td>\n",
       "      <td>2.180632</td>\n",
       "    </tr>\n",
       "    <tr>\n",
       "      <th>3</th>\n",
       "      <td>Mammal</td>\n",
       "      <td>214</td>\n",
       "      <td>3.674451</td>\n",
       "    </tr>\n",
       "    <tr>\n",
       "      <th>4</th>\n",
       "      <td>Nonvascular Plant</td>\n",
       "      <td>333</td>\n",
       "      <td>5.717720</td>\n",
       "    </tr>\n",
       "    <tr>\n",
       "      <th>5</th>\n",
       "      <td>Reptile</td>\n",
       "      <td>79</td>\n",
       "      <td>1.356456</td>\n",
       "    </tr>\n",
       "    <tr>\n",
       "      <th>6</th>\n",
       "      <td>Vascular Plant</td>\n",
       "      <td>4470</td>\n",
       "      <td>76.751374</td>\n",
       "    </tr>\n",
       "  </tbody>\n",
       "</table>\n",
       "</div>"
      ],
      "text/plain": [
       "            category  Count  Percentage\n",
       "0          Amphibian     80    1.373626\n",
       "1               Bird    521    8.945742\n",
       "2               Fish    127    2.180632\n",
       "3             Mammal    214    3.674451\n",
       "4  Nonvascular Plant    333    5.717720\n",
       "5            Reptile     79    1.356456\n",
       "6     Vascular Plant   4470   76.751374"
      ]
     },
     "execution_count": 9,
     "metadata": {},
     "output_type": "execute_result"
    }
   ],
   "source": [
    "species_info.shape[0]\n",
    "species_grouping = species_info.groupby('category').size().reset_index()\n",
    "species_grouping.columns= ['category', 'Count']\n",
    "species_grouping['Percentage'] = species_grouping.Count / species_info.shape[0] * 100\n",
    "species_grouping"
   ]
  },
  {
   "cell_type": "code",
   "execution_count": 10,
   "metadata": {},
   "outputs": [
    {
     "data": {
      "image/png": "[encoded data removed]",
      "text/plain": [
       "<Figure size 432x288 with 1 Axes>"
      ]
     },
     "metadata": {
      "needs_background": "light"
     },
     "output_type": "display_data"
    },
    {
     "data": {
      "text/plain": [
       "<Figure size 432x288 with 0 Axes>"
      ]
     },
     "metadata": {},
     "output_type": "display_data"
    }
   ],
   "source": [
    "sns.barplot(data=species_grouping, x=\"category\", y='Count')\n",
    "plt.show()\n",
    "plt.clf()"
   ]
  },
  {
   "cell_type": "code",
   "execution_count": 11,
   "metadata": {},
   "outputs": [
    {
     "data": {
      "text/html": [
       "<div>\n",
       "<style scoped>\n",
       "    .dataframe tbody tr th:only-of-type {\n",
       "        vertical-align: middle;\n",
       "    }\n",
       "\n",
       "    .dataframe tbody tr th {\n",
       "        vertical-align: top;\n",
       "    }\n",
       "\n",
       "    .dataframe thead th {\n",
       "        text-align: right;\n",
       "    }\n",
       "</style>\n",
       "<table border=\"1\" class=\"dataframe\">\n",
       "  <thead>\n",
       "    <tr style=\"text-align: right;\">\n",
       "      <th></th>\n",
       "      <th>category</th>\n",
       "      <th>Count</th>\n",
       "      <th>Percentage</th>\n",
       "    </tr>\n",
       "  </thead>\n",
       "  <tbody>\n",
       "    <tr>\n",
       "      <th>0</th>\n",
       "      <td>Amphibian</td>\n",
       "      <td>80</td>\n",
       "      <td>7.835455</td>\n",
       "    </tr>\n",
       "    <tr>\n",
       "      <th>1</th>\n",
       "      <td>Bird</td>\n",
       "      <td>521</td>\n",
       "      <td>51.028404</td>\n",
       "    </tr>\n",
       "    <tr>\n",
       "      <th>2</th>\n",
       "      <td>Fish</td>\n",
       "      <td>127</td>\n",
       "      <td>12.438786</td>\n",
       "    </tr>\n",
       "    <tr>\n",
       "      <th>3</th>\n",
       "      <td>Mammal</td>\n",
       "      <td>214</td>\n",
       "      <td>20.959843</td>\n",
       "    </tr>\n",
       "    <tr>\n",
       "      <th>4</th>\n",
       "      <td>Reptile</td>\n",
       "      <td>79</td>\n",
       "      <td>7.737512</td>\n",
       "    </tr>\n",
       "  </tbody>\n",
       "</table>\n",
       "</div>"
      ],
      "text/plain": [
       "    category  Count  Percentage\n",
       "0  Amphibian     80    7.835455\n",
       "1       Bird    521   51.028404\n",
       "2       Fish    127   12.438786\n",
       "3     Mammal    214   20.959843\n",
       "4    Reptile     79    7.737512"
      ]
     },
     "execution_count": 11,
     "metadata": {},
     "output_type": "execute_result"
    }
   ],
   "source": [
    "species_grouping_animals = species_info[species_info.Kingdom =='Animal'].groupby('category').size().reset_index()\n",
    "species_grouping_animals.columns= ['category', 'Count']\n",
    "species_grouping_animals['Percentage'] = species_grouping_animals.Count / species_info[species_info.Kingdom =='Animal'].shape[0] * 100\n",
    "species_grouping_animals"
   ]
  },
  {
   "cell_type": "code",
   "execution_count": 12,
   "metadata": {},
   "outputs": [
    {
     "data": {
      "image/png": "[encoded data removed]",
      "text/plain": [
       "<Figure size 432x288 with 1 Axes>"
      ]
     },
     "metadata": {
      "needs_background": "light"
     },
     "output_type": "display_data"
    },
    {
     "data": {
      "text/plain": [
       "<Figure size 432x288 with 0 Axes>"
      ]
     },
     "metadata": {},
     "output_type": "display_data"
    }
   ],
   "source": [
    "sns.barplot(data=species_grouping_animals, x=\"category\", y='Count')\n",
    "plt.show()\n",
    "plt.clf()"
   ]
  },
  {
   "cell_type": "code",
   "execution_count": 13,
   "metadata": {},
   "outputs": [
    {
     "data": {
      "text/html": [
       "<div>\n",
       "<style scoped>\n",
       "    .dataframe tbody tr th:only-of-type {\n",
       "        vertical-align: middle;\n",
       "    }\n",
       "\n",
       "    .dataframe tbody tr th {\n",
       "        vertical-align: top;\n",
       "    }\n",
       "\n",
       "    .dataframe thead th {\n",
       "        text-align: right;\n",
       "    }\n",
       "</style>\n",
       "<table border=\"1\" class=\"dataframe\">\n",
       "  <thead>\n",
       "    <tr style=\"text-align: right;\">\n",
       "      <th></th>\n",
       "      <th>category</th>\n",
       "      <th>Count</th>\n",
       "      <th>Percentage</th>\n",
       "    </tr>\n",
       "  </thead>\n",
       "  <tbody>\n",
       "    <tr>\n",
       "      <th>0</th>\n",
       "      <td>Nonvascular Plant</td>\n",
       "      <td>333</td>\n",
       "      <td>6.933167</td>\n",
       "    </tr>\n",
       "    <tr>\n",
       "      <th>1</th>\n",
       "      <td>Vascular Plant</td>\n",
       "      <td>4470</td>\n",
       "      <td>93.066833</td>\n",
       "    </tr>\n",
       "  </tbody>\n",
       "</table>\n",
       "</div>"
      ],
      "text/plain": [
       "            category  Count  Percentage\n",
       "0  Nonvascular Plant    333    6.933167\n",
       "1     Vascular Plant   4470   93.066833"
      ]
     },
     "execution_count": 13,
     "metadata": {},
     "output_type": "execute_result"
    }
   ],
   "source": [
    "species_grouping_plants = species_info[species_info.Kingdom =='Plant'].groupby('category').size().reset_index()\n",
    "species_grouping_plants.columns= ['category', 'Count']\n",
    "species_grouping_plants['Percentage'] = species_grouping_plants.Count / species_info[species_info.Kingdom =='Plant'].shape[0] * 100\n",
    "species_grouping_plants"
   ]
  },
  {
   "cell_type": "code",
   "execution_count": 14,
   "metadata": {},
   "outputs": [
    {
     "data": {
      "image/png": "[encoded data removed]",
      "text/plain": [
       "<Figure size 432x288 with 1 Axes>"
      ]
     },
     "metadata": {
      "needs_background": "light"
     },
     "output_type": "display_data"
    },
    {
     "data": {
      "text/plain": [
       "<Figure size 432x288 with 0 Axes>"
      ]
     },
     "metadata": {},
     "output_type": "display_data"
    }
   ],
   "source": [
    "sns.barplot(data=species_grouping_plants, x=\"category\", y='Count')\n",
    "plt.show()\n",
    "plt.clf()"
   ]
  },
  {
   "cell_type": "markdown",
   "metadata": {},
   "source": [
    "## Categories per conservation status"
   ]
  },
  {
   "cell_type": "code",
   "execution_count": 15,
   "metadata": {},
   "outputs": [
    {
     "data": {
      "text/html": [
       "<div>\n",
       "<style scoped>\n",
       "    .dataframe tbody tr th:only-of-type {\n",
       "        vertical-align: middle;\n",
       "    }\n",
       "\n",
       "    .dataframe tbody tr th {\n",
       "        vertical-align: top;\n",
       "    }\n",
       "\n",
       "    .dataframe thead th {\n",
       "        text-align: right;\n",
       "    }\n",
       "</style>\n",
       "<table border=\"1\" class=\"dataframe\">\n",
       "  <thead>\n",
       "    <tr style=\"text-align: right;\">\n",
       "      <th></th>\n",
       "      <th>Category</th>\n",
       "      <th>Not Protected</th>\n",
       "      <th>Protected</th>\n",
       "      <th>% of protected</th>\n",
       "    </tr>\n",
       "  </thead>\n",
       "  <tbody>\n",
       "    <tr>\n",
       "      <th>0</th>\n",
       "      <td>Amphibian</td>\n",
       "      <td>72</td>\n",
       "      <td>7</td>\n",
       "      <td>8.860759</td>\n",
       "    </tr>\n",
       "    <tr>\n",
       "      <th>1</th>\n",
       "      <td>Bird</td>\n",
       "      <td>413</td>\n",
       "      <td>75</td>\n",
       "      <td>15.368852</td>\n",
       "    </tr>\n",
       "    <tr>\n",
       "      <th>2</th>\n",
       "      <td>Fish</td>\n",
       "      <td>115</td>\n",
       "      <td>11</td>\n",
       "      <td>8.730159</td>\n",
       "    </tr>\n",
       "    <tr>\n",
       "      <th>3</th>\n",
       "      <td>Mammal</td>\n",
       "      <td>146</td>\n",
       "      <td>30</td>\n",
       "      <td>17.045455</td>\n",
       "    </tr>\n",
       "    <tr>\n",
       "      <th>4</th>\n",
       "      <td>Nonvascular Plant</td>\n",
       "      <td>328</td>\n",
       "      <td>5</td>\n",
       "      <td>1.501502</td>\n",
       "    </tr>\n",
       "    <tr>\n",
       "      <th>5</th>\n",
       "      <td>Reptile</td>\n",
       "      <td>73</td>\n",
       "      <td>5</td>\n",
       "      <td>6.410256</td>\n",
       "    </tr>\n",
       "    <tr>\n",
       "      <th>6</th>\n",
       "      <td>Vascular Plant</td>\n",
       "      <td>4216</td>\n",
       "      <td>46</td>\n",
       "      <td>1.079305</td>\n",
       "    </tr>\n",
       "  </tbody>\n",
       "</table>\n",
       "</div>"
      ],
      "text/plain": [
       "            Category  Not Protected  Protected  % of protected\n",
       "0          Amphibian             72          7        8.860759\n",
       "1               Bird            413         75       15.368852\n",
       "2               Fish            115         11        8.730159\n",
       "3             Mammal            146         30       17.045455\n",
       "4  Nonvascular Plant            328          5        1.501502\n",
       "5            Reptile             73          5        6.410256\n",
       "6     Vascular Plant           4216         46        1.079305"
      ]
     },
     "execution_count": 15,
     "metadata": {},
     "output_type": "execute_result"
    }
   ],
   "source": [
    "\n",
    "species_info['IsProtected'] = species_info.conservation_status != 'Species of no concern'\n",
    "species_grouping = species_info.groupby(['category','IsProtected']).scientific_name.nunique().reset_index()\\\n",
    "                        .pivot(columns='IsProtected',\n",
    "                                      index='category',\n",
    "                                      values='scientific_name')\\\n",
    "                        .reset_index()\n",
    "species_grouping.columns = ['Category', 'Not Protected', 'Protected']\n",
    "species_grouping['% of protected'] = species_grouping.Protected / (species_grouping.Protected + species_grouping['Not Protected']) * 100\n",
    "\n",
    "species_grouping"
   ]
  },
  {
   "cell_type": "code",
   "execution_count": 29,
   "metadata": {},
   "outputs": [
    {
     "data": {
      "text/html": [
       "<div>\n",
       "<style scoped>\n",
       "    .dataframe tbody tr th:only-of-type {\n",
       "        vertical-align: middle;\n",
       "    }\n",
       "\n",
       "    .dataframe tbody tr th {\n",
       "        vertical-align: top;\n",
       "    }\n",
       "\n",
       "    .dataframe thead th {\n",
       "        text-align: right;\n",
       "    }\n",
       "</style>\n",
       "<table border=\"1\" class=\"dataframe\">\n",
       "  <thead>\n",
       "    <tr style=\"text-align: right;\">\n",
       "      <th>category</th>\n",
       "      <th>Amphibian</th>\n",
       "      <th>Bird</th>\n",
       "      <th>Fish</th>\n",
       "      <th>Mammal</th>\n",
       "      <th>Nonvascular Plant</th>\n",
       "      <th>Reptile</th>\n",
       "      <th>Vascular Plant</th>\n",
       "    </tr>\n",
       "    <tr>\n",
       "      <th>conservation_status</th>\n",
       "      <th></th>\n",
       "      <th></th>\n",
       "      <th></th>\n",
       "      <th></th>\n",
       "      <th></th>\n",
       "      <th></th>\n",
       "      <th></th>\n",
       "    </tr>\n",
       "  </thead>\n",
       "  <tbody>\n",
       "    <tr>\n",
       "      <th>Endangered</th>\n",
       "      <td>1.0</td>\n",
       "      <td>4.0</td>\n",
       "      <td>3.0</td>\n",
       "      <td>7.0</td>\n",
       "      <td>NaN</td>\n",
       "      <td>NaN</td>\n",
       "      <td>1.0</td>\n",
       "    </tr>\n",
       "    <tr>\n",
       "      <th>In Recovery</th>\n",
       "      <td>NaN</td>\n",
       "      <td>3.0</td>\n",
       "      <td>NaN</td>\n",
       "      <td>1.0</td>\n",
       "      <td>NaN</td>\n",
       "      <td>NaN</td>\n",
       "      <td>NaN</td>\n",
       "    </tr>\n",
       "    <tr>\n",
       "      <th>Species of Concern</th>\n",
       "      <td>4.0</td>\n",
       "      <td>72.0</td>\n",
       "      <td>4.0</td>\n",
       "      <td>28.0</td>\n",
       "      <td>5.0</td>\n",
       "      <td>5.0</td>\n",
       "      <td>43.0</td>\n",
       "    </tr>\n",
       "    <tr>\n",
       "      <th>Threatened</th>\n",
       "      <td>2.0</td>\n",
       "      <td>NaN</td>\n",
       "      <td>4.0</td>\n",
       "      <td>2.0</td>\n",
       "      <td>NaN</td>\n",
       "      <td>NaN</td>\n",
       "      <td>2.0</td>\n",
       "    </tr>\n",
       "  </tbody>\n",
       "</table>\n",
       "</div>"
      ],
      "text/plain": [
       "category             Amphibian  Bird  Fish  Mammal  Nonvascular Plant  \\\n",
       "conservation_status                                                     \n",
       "Endangered                 1.0   4.0   3.0     7.0                NaN   \n",
       "In Recovery                NaN   3.0   NaN     1.0                NaN   \n",
       "Species of Concern         4.0  72.0   4.0    28.0                5.0   \n",
       "Threatened                 2.0   NaN   4.0     2.0                NaN   \n",
       "\n",
       "category             Reptile  Vascular Plant  \n",
       "conservation_status                           \n",
       "Endangered               NaN             1.0  \n",
       "In Recovery              NaN             NaN  \n",
       "Species of Concern       5.0            43.0  \n",
       "Threatened               NaN             2.0  "
      ]
     },
     "execution_count": 29,
     "metadata": {},
     "output_type": "execute_result"
    }
   ],
   "source": [
    "#needed to bring back the object category to the conservation status\n",
    "species_info[\"conservation_status\"] = species_info[\"conservation_status\"].astype(\"object\")\n",
    "cat_per_cons_status = species_info[species_info.conservation_status != 'Species of no concern']\\\n",
    "    .groupby([\"conservation_status\", \"category\"])['scientific_name']\\\n",
    "    .count()\\\n",
    "    .unstack()\n",
    "\n",
    "cat_per_cons_status"
   ]
  },
  {
   "cell_type": "code",
   "execution_count": 36,
   "metadata": {},
   "outputs": [
    {
     "data": {
      "image/png": "[encoded data removed]",
      "text/plain": [
       "<Figure size 576x576 with 1 Axes>"
      ]
     },
     "metadata": {
      "needs_background": "light"
     },
     "output_type": "display_data"
    }
   ],
   "source": [
    "ax = cat_per_cons_status.plot(kind = 'bar', figsize=(8,8), \n",
    "                               stacked=True)\n",
    "ax.set_xlabel(\"Conservation Status\")\n",
    "ax.set_ylabel(\"Number of Species\");"
   ]
  },
  {
   "cell_type": "markdown",
   "metadata": {},
   "source": [
    "## Analysis of park observations"
   ]
  },
  {
   "cell_type": "code",
   "execution_count": 10,
   "metadata": {},
   "outputs": [
    {
     "name": "stdout",
     "output_type": "stream",
     "text": [
      "            scientific_name                            park_name  \\\n",
      "0        Vicia benghalensis  Great Smoky Mountains National Park   \n",
      "1            Neovison vison  Great Smoky Mountains National Park   \n",
      "2         Prunus subcordata               Yosemite National Park   \n",
      "3      Abutilon theophrasti                  Bryce National Park   \n",
      "4  Githopsis specularioides  Great Smoky Mountains National Park   \n",
      "\n",
      "   observations        category conservation_status  \n",
      "0            68  Vascular Plant             no info  \n",
      "1            77          Mammal             no info  \n",
      "2           138  Vascular Plant             no info  \n",
      "3            84  Vascular Plant             no info  \n",
      "4            85  Vascular Plant             no info  \n",
      "<class 'pandas.core.frame.DataFrame'>\n",
      "Int64Index: 23281 entries, 0 to 23280\n",
      "Data columns (total 5 columns):\n",
      " #   Column               Non-Null Count  Dtype   \n",
      "---  ------               --------------  -----   \n",
      " 0   scientific_name      23281 non-null  object  \n",
      " 1   park_name            23281 non-null  object  \n",
      " 2   observations         23281 non-null  int64   \n",
      " 3   category             23281 non-null  object  \n",
      " 4   conservation_status  23281 non-null  category\n",
      "dtypes: category(1), int64(1), object(3)\n",
      "memory usage: 932.4+ KB\n",
      "None\n"
     ]
    }
   ],
   "source": [
    "all_data = pd.merge(\n",
    "    left = observations,\n",
    "    right = species_info,\n",
    "    left_on = 'scientific_name',\n",
    "    right_on = 'scientific_name',\n",
    "    how='left')\n",
    "\n",
    "print(all_data.head())\n",
    "print(all_data.info())"
   ]
  },
  {
   "cell_type": "code",
   "execution_count": 12,
   "metadata": {},
   "outputs": [
    {
     "data": {
      "image/png": "[encoded data removed]",
      "text/plain": [
       "<Figure size 432x288 with 1 Axes>"
      ]
     },
     "metadata": {
      "needs_background": "light"
     },
     "output_type": "display_data"
    },
    {
     "data": {
      "image/png": "[encoded data removed]",
      "text/plain": [
       "<Figure size 432x288 with 1 Axes>"
      ]
     },
     "metadata": {
      "needs_background": "light"
     },
     "output_type": "display_data"
    },
    {
     "data": {
      "text/plain": [
       "<Figure size 432x288 with 0 Axes>"
      ]
     },
     "metadata": {},
     "output_type": "display_data"
    }
   ],
   "source": [
    "#check the shape of observations\n",
    "\n",
    "\n",
    "sns.histplot(data=all_data, x='observations', hue='park_name')\n",
    "plt.show()\n",
    "plt.clf()\n",
    "\n",
    "sns.histplot(data=all_data, x='observations', hue='category')\n",
    "plt.show()\n",
    "plt.clf()\n",
    "\n",
    "\n"
   ]
  },
  {
   "cell_type": "code",
   "execution_count": 14,
   "metadata": {},
   "outputs": [
    {
     "name": "stdout",
     "output_type": "stream",
     "text": [
      "                             park_name  observations\n",
      "0                  Bryce National Park          5823\n",
      "1  Great Smoky Mountains National Park          5818\n",
      "2            Yellowstone National Park          5819\n",
      "3               Yosemite National Park          5821\n"
     ]
    },
    {
     "data": {
      "image/png": "[encoded data removed]",
      "text/plain": [
       "<Figure size 432x288 with 1 Axes>"
      ]
     },
     "metadata": {
      "needs_background": "light"
     },
     "output_type": "display_data"
    },
    {
     "name": "stdout",
     "output_type": "stream",
     "text": [
      "                             park_name  observations\n",
      "0                  Bryce National Park     98.901082\n",
      "1  Great Smoky Mountains National Park     74.145411\n",
      "2            Yellowstone National Park    247.862863\n",
      "3               Yosemite National Park    148.228139\n"
     ]
    },
    {
     "data": {
      "image/png": "[encoded data removed]",
      "text/plain": [
       "<Figure size 432x288 with 1 Axes>"
      ]
     },
     "metadata": {
      "needs_background": "light"
     },
     "output_type": "display_data"
    },
    {
     "name": "stdout",
     "output_type": "stream",
     "text": [
      "                             park_name  observations\n",
      "0                  Bryce National Park        575901\n",
      "1  Great Smoky Mountains National Park        431378\n",
      "2            Yellowstone National Park       1442314\n",
      "3               Yosemite National Park        862836\n"
     ]
    },
    {
     "data": {
      "image/png": "[encoded data removed]",
      "text/plain": [
       "<Figure size 432x288 with 1 Axes>"
      ]
     },
     "metadata": {
      "needs_background": "light"
     },
     "output_type": "display_data"
    },
    {
     "data": {
      "text/plain": [
       "<Figure size 432x288 with 0 Axes>"
      ]
     },
     "metadata": {},
     "output_type": "display_data"
    }
   ],
   "source": [
    "#check how many entries per park\n",
    "\n",
    "#no. of entries\n",
    "df_counts = observations.drop(\"scientific_name\", axis = 1).groupby(\"park_name\").count().reset_index()\n",
    "print(df_counts)\n",
    "sns.barplot(data=df_counts, x=\"park_name\", y='observations')\n",
    "plt.show()\n",
    "plt.clf()\n",
    "#mean no. of observations\n",
    "df_means = observations.drop(\"scientific_name\", axis = 1).groupby(\"park_name\").mean().reset_index()\n",
    "print(df_means)\n",
    "sns.barplot(data=df_means, x=\"park_name\", y='observations')\n",
    "plt.show()\n",
    "plt.clf()\n",
    "\n",
    "#total no. of observations\n",
    "df_sums = observations.drop(\"scientific_name\", axis = 1).groupby(\"park_name\").sum().reset_index()\n",
    "print(df_sums)\n",
    "sns.barplot(data=df_sums, x=\"park_name\", y='observations')\n",
    "plt.show()\n",
    "plt.clf()\n"
   ]
  },
  {
   "cell_type": "code",
   "execution_count": 23,
   "metadata": {},
   "outputs": [
    {
     "name": "stdout",
     "output_type": "stream",
     "text": [
      "            category  observations\n",
      "0          Amphibian           320\n",
      "1               Bird          2083\n",
      "2               Fish           508\n",
      "3             Mammal           855\n",
      "4  Nonvascular Plant          1332\n",
      "5            Reptile           316\n",
      "6     Vascular Plant         17867\n"
     ]
    },
    {
     "data": {
      "image/png": "[encoded data removed]",
      "text/plain": [
       "<Figure size 432x288 with 1 Axes>"
      ]
     },
     "metadata": {
      "needs_background": "light"
     },
     "output_type": "display_data"
    },
    {
     "name": "stdout",
     "output_type": "stream",
     "text": [
      "            category  observations\n",
      "0          Amphibian         43971\n",
      "1               Bird        292578\n",
      "2               Fish         70818\n",
      "3             Mammal        116440\n",
      "4  Nonvascular Plant        190653\n",
      "5            Reptile         44678\n",
      "6     Vascular Plant       2553291\n"
     ]
    },
    {
     "data": {
      "image/png": "[encoded data removed]",
      "text/plain": [
       "<Figure size 432x288 with 1 Axes>"
      ]
     },
     "metadata": {
      "needs_background": "light"
     },
     "output_type": "display_data"
    },
    {
     "name": "stdout",
     "output_type": "stream",
     "text": [
      "            category  observations\n",
      "0          Amphibian    137.409375\n",
      "1               Bird    140.459914\n",
      "2               Fish    139.405512\n",
      "3             Mammal    136.187135\n",
      "4  Nonvascular Plant    143.132883\n",
      "5            Reptile    141.386076\n",
      "6     Vascular Plant    142.905412\n"
     ]
    },
    {
     "data": {
      "image/png": "[encoded data removed]",
      "text/plain": [
       "<Figure size 432x288 with 1 Axes>"
      ]
     },
     "metadata": {
      "needs_background": "light"
     },
     "output_type": "display_data"
    },
    {
     "data": {
      "text/plain": [
       "<Figure size 432x288 with 0 Axes>"
      ]
     },
     "metadata": {},
     "output_type": "display_data"
    }
   ],
   "source": [
    "#check % of different animal categories in the total number of entries\n",
    "df_counts = all_data.drop([\"scientific_name\", \"park_name\", \"conservation_status\"], axis = 1).groupby(\"category\").count().reset_index()\n",
    "print(df_counts)\n",
    "sns.barplot(data=df_counts, x=\"category\", y='observations')\n",
    "plt.show()\n",
    "plt.clf()\n",
    "\n",
    "#check % of different animal categories in the total number of entries\n",
    "df_counts = all_data.drop([\"scientific_name\", \"park_name\", \"conservation_status\"], axis = 1).groupby(\"category\").sum().reset_index()\n",
    "print(df_counts)\n",
    "sns.barplot(data=df_counts, x=\"category\", y='observations')\n",
    "plt.show()\n",
    "plt.clf()\n",
    "\n",
    "#mean no. of observations\n",
    "df_counts = all_data.drop([\"scientific_name\", \"park_name\", \"conservation_status\"], axis = 1).groupby(\"category\").mean().reset_index()\n",
    "print(df_counts)\n",
    "sns.barplot(data=df_counts, x=\"category\", y='observations')\n",
    "plt.show()\n",
    "plt.clf()\n",
    "\n"
   ]
  },
  {
   "cell_type": "code",
   "execution_count": 35,
   "metadata": {},
   "outputs": [
    {
     "data": {
      "image/png": "[encoded data removed]",
      "text/plain": [
       "<Figure size 432x288 with 1 Axes>"
      ]
     },
     "metadata": {
      "needs_background": "light"
     },
     "output_type": "display_data"
    },
    {
     "data": {
      "image/png": "[encoded data removed]",
      "text/plain": [
       "<Figure size 432x288 with 1 Axes>"
      ]
     },
     "metadata": {
      "needs_background": "light"
     },
     "output_type": "display_data"
    }
   ],
   "source": [
    "#check relationship between status and observations\n",
    "\n",
    "\n",
    "sns.histplot(x = 'observations', data = all_data[all_data.conservation_status != 'no info'], hue='conservation_status')\n",
    "plt.show()\n",
    "plt.clf()\n",
    "sns.violinplot(x='conservation_status', y='observations', data = all_data, order=['Endangered', 'Threatened', 'Species of Concern', 'In Recovery', 'no info'])\n",
    "plt.show()\n",
    "\n",
    "\n"
   ]
  },
  {
   "cell_type": "code",
   "execution_count": null,
   "metadata": {},
   "outputs": [],
   "source": [
    "#check relationship between status and park\n",
    "\n",
    "\n",
    "status = all_data.conservation_status\n",
    "parks = all_data.park_name.unique()\n",
    "width = 0.35       # the width of the bars: can also be len(x) sequence\n",
    "\n",
    "fig, ax = plt.subplots()\n",
    "\n",
    "ax.bar(parks, men_means, width, label='Men')\n",
    "ax.bar(parks, women_means, width, bottom=men_means,\n",
    "       label='Women')\n",
    "\n",
    "\n",
    "#check relationship between status and animal category"
   ]
  }
 ],
 "metadata": {
  "kernelspec": {
   "display_name": "Python 3 (ipykernel)",
   "language": "python",
   "name": "python3"
  },
  "language_info": {
   "codemirror_mode": {
    "name": "ipython",
    "version": 3
   },
   "file_extension": ".py",
   "mimetype": "text/x-python",
   "name": "python",
   "nbconvert_exporter": "python",
   "pygments_lexer": "ipython3",
   "version": "3.9.5"
  }
 },
 "nbformat": 4,
 "nbformat_minor": 4
}
