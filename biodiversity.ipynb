{
 "cells": [
  {
   "cell_type": "code",
   "execution_count": 89,
   "metadata": {},
   "outputs": [
    {
     "name": "stdout",
     "output_type": "stream",
     "text": [
      "(5824, 3)\n",
      "(5543, 3)\n",
      "(5543, 3)\n",
      "5541\n"
     ]
    }
   ],
   "source": [
    "import pandas as pd\n",
    "import matplotlib as plt\n",
    "import seaborn as sns\n",
    "\n",
    "##species_unaltered = pd.read_csv('species_info.csv')\n",
    "\n",
    "species_info = pd.read_csv('species_info.csv')\n",
    "observations = pd.read_csv('observations.csv')\n",
    "\n",
    "#dropping the common names column, as it's obsolete for our purposes (we'll use the scientific name only)\n",
    "species_info = species_info.drop('common_names', axis=1)\n",
    "print(species_info.shape)\n",
    "#dropping duplicates\n",
    "species_info.drop_duplicates(keep='first', inplace=True)\n",
    "\n",
    "#filling in nans\n",
    "species_info['conservation_status'] = species_info['conservation_status'].fillna('no info')\n",
    "\n",
    "#creating categorical data out of conservation status\n",
    "species_info[\"conservation_status\"] = species_info[\"conservation_status\"].astype(\"category\")\n",
    "species_info[\"conservation_status\"].cat.reorder_categories(['Endangered', 'Threatened', 'Species of Concern', 'In Recovery', 'no info'], ordered=True)\n",
    "species_info.sort_values(by='conservation_status', inplace=True, ascending=True)\n",
    "print(species_info.shape)\n",
    "#now that the data is sorted by conservation status, we can drop duplicates from the scientific_name column and leave the highest available conservation status\n",
    "species_info['scientific_name'].drop_duplicates(keep='first', inplace=True)\n",
    "\n",
    "###########the above drop duplicates is somehow not working ?\n",
    "print(species_info.shape)\n",
    "print(len(species_info.scientific_name.unique()))\n",
    "\n",
    "\n"
   ]
  },
  {
   "cell_type": "code",
   "execution_count": 86,
   "metadata": {},
   "outputs": [
    {
     "name": "stdout",
     "output_type": "stream",
     "text": [
      "2\n",
      "     category      scientific_name conservation_status  Duplicated\n",
      "8      Mammal          Canis lupus          Endangered        True\n",
      "3020   Mammal          Canis lupus         In Recovery        True\n",
      "3283     Fish  Oncorhynchus mykiss          Threatened        True\n",
      "560      Fish  Oncorhynchus mykiss             no info        True\n"
     ]
    }
   ],
   "source": [
    "\n",
    "#checking for remaining duplicates in the scientific name column\n",
    "\n",
    "species_info['Duplicated'] = species_info.scientific_name.duplicated(keep=False)\n",
    "duplicates = species_info[species_info.Duplicated == True]\n",
    "#duplicates.sort_values(by='scientific_name', axis=0, ascending=True, inplace=True)\n",
    "# print(len(species_info[species_info.Duplicated == True]))\n",
    "print(len(duplicates.scientific_name.unique()))\n",
    "print(duplicates.head())\n",
    "#print(duplicates[duplicates.category == 'Mammal'].head(50))\n",
    "\n",
    "#noticed that some duplicates have conflicting conservation_status iformation (e.g. Canis lupus has 3 entries, 2 of which report it as being endangered, 1 reporting it as in recovery).\n",
    "#we'd like to remove the duplicates and keep the most common status in place\n",
    "#however first we need to check for duplicates entries with NaN, so that NaN is never selected if any other conservation status is available for that species\n",
    "\n",
    "# Nans = duplicates[duplicates.conservation_status.isnull()]\n",
    "# names_to_check = Nans.scientific_name.unique()\n",
    "# #print(names_to_check)\n",
    "\n",
    "# not_nans = duplicates[duplicates.conservation_status.notna()]\n",
    "# names_to_check2 = not_nans.scientific_name.unique()\n",
    "\n",
    "# names_to_check_intersection = list(set(names_to_check) & set(names_to_check2))\n",
    "# print(names_to_check_intersection)\n",
    "# # \n",
    "\n",
    "\n",
    "# print(species_info.info())\n",
    "# print(observations.info())"
   ]
  },
  {
   "cell_type": "code",
   "execution_count": 66,
   "metadata": {},
   "outputs": [
    {
     "name": "stdout",
     "output_type": "stream",
     "text": [
      "     category scientific_name     common_names conservation_status\n",
      "8      Mammal     Canis lupus        Gray Wolf          Endangered\n",
      "3020   Mammal     Canis lupus  Gray Wolf, Wolf         In Recovery\n",
      "4448   Mammal     Canis lupus  Gray Wolf, Wolf          Endangered\n",
      "Empty DataFrame\n",
      "Columns: [category, scientific_name, common_names, conservation_status]\n",
      "Index: []\n",
      "[nan 'Species of Concern' 'Endangered' 'Threatened' 'In Recovery']\n"
     ]
    }
   ],
   "source": [
    "print(species_unaltered[species_unaltered.scientific_name == 'Canis lupus'].head())\n",
    "print(species_unaltered[species_unaltered.scientific_name == 'Oncorhynchus mykiss '].head())\n",
    "print(species_info.conservation_status.unique())"
   ]
  }
 ],
 "metadata": {
  "kernelspec": {
   "display_name": "Python 3 (ipykernel)",
   "language": "python",
   "name": "python3"
  },
  "language_info": {
   "codemirror_mode": {
    "name": "ipython",
    "version": 3
   },
   "file_extension": ".py",
   "mimetype": "text/x-python",
   "name": "python",
   "nbconvert_exporter": "python",
   "pygments_lexer": "ipython3",
   "version": "3.9.5"
  }
 },
 "nbformat": 4,
 "nbformat_minor": 4
}
