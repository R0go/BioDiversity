{
 "cells": [
  {
   "cell_type": "code",
   "execution_count": 40,
   "metadata": {},
   "outputs": [
    {
     "name": "stdout",
     "output_type": "stream",
     "text": [
      "<class 'pandas.core.frame.DataFrame'>\n",
      "RangeIndex: 5824 entries, 0 to 5823\n",
      "Data columns (total 4 columns):\n",
      " #   Column               Non-Null Count  Dtype \n",
      "---  ------               --------------  ----- \n",
      " 0   category             5824 non-null   object\n",
      " 1   scientific_name      5824 non-null   object\n",
      " 2   common_names         5824 non-null   object\n",
      " 3   conservation_status  191 non-null    object\n",
      "dtypes: object(4)\n",
      "memory usage: 182.1+ KB\n",
      "None\n",
      "(5824, 4)\n",
      "  category                scientific_name  \\\n",
      "0   Mammal  Clethrionomys gapperi gapperi   \n",
      "1   Mammal                      Bos bison   \n",
      "2   Mammal                     Bos taurus   \n",
      "3   Mammal                     Ovis aries   \n",
      "4   Mammal                 Cervus elaphus   \n",
      "\n",
      "                                        common_names conservation_status  \n",
      "0                           Gapper's Red-Backed Vole                 NaN  \n",
      "1                              American Bison, Bison                 NaN  \n",
      "2  Aurochs, Aurochs, Domestic Cattle (Feral), Dom...                 NaN  \n",
      "3  Domestic Sheep, Mouflon, Red Sheep, Sheep (Feral)                 NaN  \n",
      "4                                      Wapiti Or Elk                 NaN  \n"
     ]
    }
   ],
   "source": [
    "import pandas as pd\n",
    "import matplotlib as plt\n",
    "import seaborn as sns\n",
    "\n",
    "#creating dataframes\n",
    "species_info = pd.read_csv('species_info.csv')\n",
    "observations = pd.read_csv('observations.csv')\n",
    "\n",
    "#taking a first look at the species_info df\n",
    "print(species_info.info())\n",
    "print(species_info.shape)\n",
    "print(species_info.head())\n",
    "\n",
    "\n",
    "\n"
   ]
  },
  {
   "cell_type": "code",
   "execution_count": 41,
   "metadata": {},
   "outputs": [
    {
     "name": "stdout",
     "output_type": "stream",
     "text": [
      "(5824, 3)\n",
      "5541\n"
     ]
    }
   ],
   "source": [
    "#dropping the 'common names' column, as it's obsolete for our purposes (we'll use the scientific name only)\n",
    "species_info = species_info.drop('common_names', axis=1)\n",
    "#looks like there are more entries than there are unique scientific names in the df, implying duplicates\n",
    "print(species_info.shape)\n",
    "print(len(species_info.scientific_name.unique()))\n"
   ]
  },
  {
   "cell_type": "code",
   "execution_count": 42,
   "metadata": {},
   "outputs": [
    {
     "name": "stdout",
     "output_type": "stream",
     "text": [
      "(5541, 3)\n",
      "5541\n"
     ]
    }
   ],
   "source": [
    "#dropping duplicates\n",
    "species_info.drop_duplicates(keep='first', inplace=True)\n",
    "\n",
    "#filling in nans\n",
    "species_info['conservation_status'] = species_info['conservation_status'].fillna('no info')\n",
    "\n",
    "#creating categorical data out of conservation status\n",
    "species_info[\"conservation_status\"] = species_info[\"conservation_status\"].astype(\"category\")\n",
    "species_info[\"conservation_status\"].cat.reorder_categories(['Endangered', 'Threatened', 'Species of Concern', 'In Recovery', 'no info'], ordered=True)\n",
    "species_info.sort_values(by='conservation_status', inplace=True, ascending=True)\n",
    "\n",
    "#now that the data is sorted by conservation status, we can drop duplicates from the scientific_name column and leave the highest available conservation status\n",
    "species_info.drop_duplicates(subset='scientific_name', keep='first', inplace=True)\n",
    "\n",
    "#now the number of unique scientific names is equal to the number of entries in the df\n",
    "print(species_info.shape)\n",
    "print(len(species_info.scientific_name.unique()))"
   ]
  },
  {
   "cell_type": "code",
   "execution_count": 43,
   "metadata": {},
   "outputs": [
    {
     "name": "stdout",
     "output_type": "stream",
     "text": [
      "################\n",
      "<class 'pandas.core.frame.DataFrame'>\n",
      "RangeIndex: 23296 entries, 0 to 23295\n",
      "Data columns (total 3 columns):\n",
      " #   Column           Non-Null Count  Dtype \n",
      "---  ------           --------------  ----- \n",
      " 0   scientific_name  23296 non-null  object\n",
      " 1   park_name        23296 non-null  object\n",
      " 2   observations     23296 non-null  int64 \n",
      "dtypes: int64(1), object(2)\n",
      "memory usage: 546.1+ KB\n",
      "None\n",
      "################\n",
      "(23296, 3)\n",
      "################\n",
      "            scientific_name                            park_name  observations\n",
      "0        Vicia benghalensis  Great Smoky Mountains National Park            68\n",
      "1            Neovison vison  Great Smoky Mountains National Park            77\n",
      "2         Prunus subcordata               Yosemite National Park           138\n",
      "3      Abutilon theophrasti                  Bryce National Park            84\n",
      "4  Githopsis specularioides  Great Smoky Mountains National Park            85\n"
     ]
    }
   ],
   "source": [
    "#taking a first look at the observations df\n",
    "print('################')\n",
    "print(observations.info())\n",
    "print('################')\n",
    "print(observations.shape)\n",
    "\n",
    "print('################')\n",
    "print(observations.head())"
   ]
  },
  {
   "cell_type": "code",
   "execution_count": 44,
   "metadata": {},
   "outputs": [
    {
     "name": "stdout",
     "output_type": "stream",
     "text": [
      "True\n"
     ]
    }
   ],
   "source": [
    "#checking if the number of unique scientific_names is equal between the two DFs\n",
    "print(len(species_info.scientific_name.unique())==len(observations.scientific_name.unique()))\n"
   ]
  },
  {
   "cell_type": "code",
   "execution_count": 49,
   "metadata": {},
   "outputs": [
    {
     "name": "stdout",
     "output_type": "stream",
     "text": [
      "(23296, 3)\n",
      "(23281, 3)\n"
     ]
    }
   ],
   "source": [
    "#checking for duplicates\n",
    "observations = pd.read_csv('observations.csv')\n",
    "print(observations.shape)\n",
    "\n",
    "observations.drop_duplicates(keep='first', inplace=True)\n",
    "print(observations.shape)"
   ]
  }
 ],
 "metadata": {
  "kernelspec": {
   "display_name": "Python 3 (ipykernel)",
   "language": "python",
   "name": "python3"
  },
  "language_info": {
   "codemirror_mode": {
    "name": "ipython",
    "version": 3
   },
   "file_extension": ".py",
   "mimetype": "text/x-python",
   "name": "python",
   "nbconvert_exporter": "python",
   "pygments_lexer": "ipython3",
   "version": "3.9.5"
  }
 },
 "nbformat": 4,
 "nbformat_minor": 4
}
