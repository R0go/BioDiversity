{
 "cells": [
  {
   "cell_type": "markdown",
   "metadata": {},
   "source": [
    "# Biodiversity in US National Parks"
   ]
  },
  {
   "cell_type": "markdown",
   "metadata": {},
   "source": [
    "## Project Scope"
   ]
  },
  {
   "cell_type": "markdown",
   "metadata": {},
   "source": [
    "This project aims to analyze the data coming from two datasets in order to investigate the biodiversity in US National Parks included in the above mentioned datasets. The project is largely exploratory, intending to summarize the data in a concise and clear way and provide a general overview of various statistics that should be relevant to park authorities and relevant scientists.\n",
    "\n",
    "The project will address the following questions:\n",
    "\n",
    "1. How many species are included in the datasets? What is their break-down in the context of respective species categories?\n",
    "2. What is the break-down of conservation status in the context of respective species categories? Which category is most likely to be placed under protection?\n",
    "3. In the context of their conservation status, are there any statistically significant differences between different species categories?\n",
    "4. How do the parks included in the dataset compare to each other in terms of reported number of species and observations?\n",
    "5. How do the parks compare to each other in terms of their percentage of observations of protected animals?\n",
    "6. What is the distribution of the number of observations for every conservation status group?"
   ]
  },
  {
   "cell_type": "code",
   "execution_count": 1,
   "metadata": {},
   "outputs": [],
   "source": [
    "#library import\n",
    "import pandas as pd\n",
    "import matplotlib.pyplot as plt\n",
    "import seaborn as sns\n",
    "from scipy.stats import chi2_contingency\n",
    "import itertools"
   ]
  },
  {
   "cell_type": "code",
   "execution_count": 2,
   "metadata": {},
   "outputs": [],
   "source": [
    "#creating dataframes and removing duplicates\n",
    "species_info = pd.read_csv('species_info.csv',encoding='utf-8')\n",
    "species_info.drop_duplicates(keep='first', inplace=True)\n",
    "observations = pd.read_csv('observations.csv',encoding='utf-8')\n",
    "observations.drop_duplicates(keep='first', inplace=True)"
   ]
  },
  {
   "cell_type": "markdown",
   "metadata": {},
   "source": [
    "### Inspecting 'species_info.csv'"
   ]
  },
  {
   "cell_type": "markdown",
   "metadata": {},
   "source": [
    "'species_info.csv' consists pf 5824 entries and describes animals and plants by listing their (1) category, (2) scientific name, (3) common name(s) and (4) their conservation status. Some initial insights:\n",
    "* the conservation status has a lot of null values\n",
    "* some scientific names are duplicated (5541 unique scientific names vs. 5824 entries in the dataset)"
   ]
  },
  {
   "cell_type": "code",
   "execution_count": 3,
   "metadata": {},
   "outputs": [
    {
     "name": "stdout",
     "output_type": "stream",
     "text": [
      "##################################\n",
      "General info:\n",
      "<class 'pandas.core.frame.DataFrame'>\n",
      "Int64Index: 5824 entries, 0 to 5823\n",
      "Data columns (total 4 columns):\n",
      " #   Column               Non-Null Count  Dtype \n",
      "---  ------               --------------  ----- \n",
      " 0   category             5824 non-null   object\n",
      " 1   scientific_name      5824 non-null   object\n",
      " 2   common_names         5824 non-null   object\n",
      " 3   conservation_status  191 non-null    object\n",
      "dtypes: object(4)\n",
      "memory usage: 227.5+ KB\n",
      "None\n",
      "##################################\n",
      "Number of rows and columns:\n",
      "(5824, 4)\n",
      "##################################\n",
      "Conservation status values:\n",
      "[nan 'Species of Concern' 'Endangered' 'Threatened' 'In Recovery']\n",
      "##################################\n",
      "Animal/plant categories:\n",
      "['Mammal' 'Bird' 'Reptile' 'Amphibian' 'Fish' 'Vascular Plant'\n",
      " 'Nonvascular Plant']\n",
      "##################################\n",
      "How many unique scientific names:\n",
      "5541\n",
      "##################################\n",
      "Sample of the dataset:\n"
     ]
    },
    {
     "data": {
      "text/html": [
       "<div>\n",
       "<style scoped>\n",
       "    .dataframe tbody tr th:only-of-type {\n",
       "        vertical-align: middle;\n",
       "    }\n",
       "\n",
       "    .dataframe tbody tr th {\n",
       "        vertical-align: top;\n",
       "    }\n",
       "\n",
       "    .dataframe thead th {\n",
       "        text-align: right;\n",
       "    }\n",
       "</style>\n",
       "<table border=\"1\" class=\"dataframe\">\n",
       "  <thead>\n",
       "    <tr style=\"text-align: right;\">\n",
       "      <th></th>\n",
       "      <th>category</th>\n",
       "      <th>scientific_name</th>\n",
       "      <th>common_names</th>\n",
       "      <th>conservation_status</th>\n",
       "    </tr>\n",
       "  </thead>\n",
       "  <tbody>\n",
       "    <tr>\n",
       "      <th>0</th>\n",
       "      <td>Mammal</td>\n",
       "      <td>Clethrionomys gapperi gapperi</td>\n",
       "      <td>Gapper's Red-Backed Vole</td>\n",
       "      <td>NaN</td>\n",
       "    </tr>\n",
       "    <tr>\n",
       "      <th>1</th>\n",
       "      <td>Mammal</td>\n",
       "      <td>Bos bison</td>\n",
       "      <td>American Bison, Bison</td>\n",
       "      <td>NaN</td>\n",
       "    </tr>\n",
       "    <tr>\n",
       "      <th>2</th>\n",
       "      <td>Mammal</td>\n",
       "      <td>Bos taurus</td>\n",
       "      <td>Aurochs, Aurochs, Domestic Cattle (Feral), Dom...</td>\n",
       "      <td>NaN</td>\n",
       "    </tr>\n",
       "    <tr>\n",
       "      <th>3</th>\n",
       "      <td>Mammal</td>\n",
       "      <td>Ovis aries</td>\n",
       "      <td>Domestic Sheep, Mouflon, Red Sheep, Sheep (Feral)</td>\n",
       "      <td>NaN</td>\n",
       "    </tr>\n",
       "    <tr>\n",
       "      <th>4</th>\n",
       "      <td>Mammal</td>\n",
       "      <td>Cervus elaphus</td>\n",
       "      <td>Wapiti Or Elk</td>\n",
       "      <td>NaN</td>\n",
       "    </tr>\n",
       "  </tbody>\n",
       "</table>\n",
       "</div>"
      ],
      "text/plain": [
       "  category                scientific_name  \\\n",
       "0   Mammal  Clethrionomys gapperi gapperi   \n",
       "1   Mammal                      Bos bison   \n",
       "2   Mammal                     Bos taurus   \n",
       "3   Mammal                     Ovis aries   \n",
       "4   Mammal                 Cervus elaphus   \n",
       "\n",
       "                                        common_names conservation_status  \n",
       "0                           Gapper's Red-Backed Vole                 NaN  \n",
       "1                              American Bison, Bison                 NaN  \n",
       "2  Aurochs, Aurochs, Domestic Cattle (Feral), Dom...                 NaN  \n",
       "3  Domestic Sheep, Mouflon, Red Sheep, Sheep (Feral)                 NaN  \n",
       "4                                      Wapiti Or Elk                 NaN  "
      ]
     },
     "execution_count": 3,
     "metadata": {},
     "output_type": "execute_result"
    }
   ],
   "source": [
    "print('##################################')\n",
    "print('General info:')\n",
    "print(species_info.info())\n",
    "print('##################################')\n",
    "print('Number of rows and columns:')\n",
    "print(species_info.shape)\n",
    "print('##################################')\n",
    "print('Conservation status values:')\n",
    "print(species_info.conservation_status.unique())\n",
    "print('##################################')\n",
    "print('Animal/plant categories:')\n",
    "print(species_info.category.unique())\n",
    "print('##################################')\n",
    "print('How many unique scientific names:')\n",
    "print(len(observations.scientific_name.unique()))\n",
    "print('##################################')\n",
    "print('Sample of the dataset:')\n",
    "species_info.head()\n"
   ]
  },
  {
   "cell_type": "markdown",
   "metadata": {},
   "source": [
    "According to the information provided along with the dataset, the missing information about the conservation status denotes the species is of no concern. The nan values have thus been filled as \"Species of no concern\". Additionally, the conservation status values have been reorganized into ordered categories with \"Endangared\" at the bottom and \"Species of no concern\" at the top."
   ]
  },
  {
   "cell_type": "code",
   "execution_count": 4,
   "metadata": {},
   "outputs": [
    {
     "name": "stdout",
     "output_type": "stream",
     "text": [
      "['Species of no concern', 'Species of Concern', 'Endangered', 'Threatened', 'In Recovery']\n",
      "Categories (5, object): ['Endangered' < 'Threatened' < 'In Recovery' < 'Species of Concern' < 'Species of no concern']\n"
     ]
    }
   ],
   "source": [
    "#filling in nans\n",
    "species_info['conservation_status'] = species_info['conservation_status'].fillna('Species of no concern')\n",
    "\n",
    "#creating categorical data out of conservation status\n",
    "species_info[\"conservation_status\"] = species_info[\"conservation_status\"].astype(\"category\")\n",
    "species_info[\"conservation_status\"] = species_info[\"conservation_status\"].cat.reorder_categories(['Endangered', 'Threatened', 'In Recovery', 'Species of Concern', 'Species of no concern'], ordered=True)\n",
    "\n",
    "#checking uniques\n",
    "print(species_info.conservation_status.unique())"
   ]
  },
  {
   "cell_type": "markdown",
   "metadata": {},
   "source": [
    "The duplicated scientific names are due to the inconsistent use of common names, as seen below."
   ]
  },
  {
   "cell_type": "code",
   "execution_count": 5,
   "metadata": {},
   "outputs": [
    {
     "data": {
      "text/html": [
       "<div>\n",
       "<style scoped>\n",
       "    .dataframe tbody tr th:only-of-type {\n",
       "        vertical-align: middle;\n",
       "    }\n",
       "\n",
       "    .dataframe tbody tr th {\n",
       "        vertical-align: top;\n",
       "    }\n",
       "\n",
       "    .dataframe thead th {\n",
       "        text-align: right;\n",
       "    }\n",
       "</style>\n",
       "<table border=\"1\" class=\"dataframe\">\n",
       "  <thead>\n",
       "    <tr style=\"text-align: right;\">\n",
       "      <th></th>\n",
       "      <th>index</th>\n",
       "      <th>category</th>\n",
       "      <th>scientific_name</th>\n",
       "      <th>common_names</th>\n",
       "      <th>conservation_status</th>\n",
       "      <th>duplicate</th>\n",
       "    </tr>\n",
       "  </thead>\n",
       "  <tbody>\n",
       "    <tr>\n",
       "      <th>319</th>\n",
       "      <td>3347</td>\n",
       "      <td>Vascular Plant</td>\n",
       "      <td>Zizia aptera</td>\n",
       "      <td>Heartleaf Alexanders, Heart-Leaf Alexanders, M...</td>\n",
       "      <td>Species of no concern</td>\n",
       "      <td>True</td>\n",
       "    </tr>\n",
       "    <tr>\n",
       "      <th>56</th>\n",
       "      <td>632</td>\n",
       "      <td>Vascular Plant</td>\n",
       "      <td>Zizia aptera</td>\n",
       "      <td>Golden Alexanders</td>\n",
       "      <td>Species of no concern</td>\n",
       "      <td>True</td>\n",
       "    </tr>\n",
       "    <tr>\n",
       "      <th>441</th>\n",
       "      <td>4290</td>\n",
       "      <td>Vascular Plant</td>\n",
       "      <td>Vulpia octoflora</td>\n",
       "      <td>Eight-Flower Six-Weeks Grass, Pullout Grass, S...</td>\n",
       "      <td>Species of no concern</td>\n",
       "      <td>True</td>\n",
       "    </tr>\n",
       "    <tr>\n",
       "      <th>233</th>\n",
       "      <td>2331</td>\n",
       "      <td>Vascular Plant</td>\n",
       "      <td>Vulpia octoflora</td>\n",
       "      <td>Annual Fescue</td>\n",
       "      <td>Species of no concern</td>\n",
       "      <td>True</td>\n",
       "    </tr>\n",
       "    <tr>\n",
       "      <th>232</th>\n",
       "      <td>2330</td>\n",
       "      <td>Vascular Plant</td>\n",
       "      <td>Vulpia myuros</td>\n",
       "      <td>Rattail Fescue</td>\n",
       "      <td>Species of no concern</td>\n",
       "      <td>True</td>\n",
       "    </tr>\n",
       "    <tr>\n",
       "      <th>555</th>\n",
       "      <td>5643</td>\n",
       "      <td>Vascular Plant</td>\n",
       "      <td>Vulpia myuros</td>\n",
       "      <td>Foxtail Fescue, Rattail Fescue, Rat-Tail Fescu...</td>\n",
       "      <td>Species of no concern</td>\n",
       "      <td>True</td>\n",
       "    </tr>\n",
       "    <tr>\n",
       "      <th>554</th>\n",
       "      <td>5640</td>\n",
       "      <td>Vascular Plant</td>\n",
       "      <td>Vulpia bromoides</td>\n",
       "      <td>Brome Fescue, Brome Six-Weeks Grass, Desert Fe...</td>\n",
       "      <td>Species of no concern</td>\n",
       "      <td>True</td>\n",
       "    </tr>\n",
       "    <tr>\n",
       "      <th>231</th>\n",
       "      <td>2329</td>\n",
       "      <td>Vascular Plant</td>\n",
       "      <td>Vulpia bromoides</td>\n",
       "      <td>Fescue</td>\n",
       "      <td>Species of no concern</td>\n",
       "      <td>True</td>\n",
       "    </tr>\n",
       "    <tr>\n",
       "      <th>37</th>\n",
       "      <td>328</td>\n",
       "      <td>Bird</td>\n",
       "      <td>Vireo solitarius</td>\n",
       "      <td>Blue-Headed Vireo, Solitary Vireo</td>\n",
       "      <td>Species of no concern</td>\n",
       "      <td>True</td>\n",
       "    </tr>\n",
       "    <tr>\n",
       "      <th>297</th>\n",
       "      <td>3231</td>\n",
       "      <td>Bird</td>\n",
       "      <td>Vireo solitarius</td>\n",
       "      <td>Blue-Headed Vireo</td>\n",
       "      <td>Species of no concern</td>\n",
       "      <td>True</td>\n",
       "    </tr>\n",
       "  </tbody>\n",
       "</table>\n",
       "</div>"
      ],
      "text/plain": [
       "     index        category   scientific_name  \\\n",
       "319   3347  Vascular Plant      Zizia aptera   \n",
       "56     632  Vascular Plant      Zizia aptera   \n",
       "441   4290  Vascular Plant  Vulpia octoflora   \n",
       "233   2331  Vascular Plant  Vulpia octoflora   \n",
       "232   2330  Vascular Plant     Vulpia myuros   \n",
       "555   5643  Vascular Plant     Vulpia myuros   \n",
       "554   5640  Vascular Plant  Vulpia bromoides   \n",
       "231   2329  Vascular Plant  Vulpia bromoides   \n",
       "37     328            Bird  Vireo solitarius   \n",
       "297   3231            Bird  Vireo solitarius   \n",
       "\n",
       "                                          common_names    conservation_status  \\\n",
       "319  Heartleaf Alexanders, Heart-Leaf Alexanders, M...  Species of no concern   \n",
       "56                                   Golden Alexanders  Species of no concern   \n",
       "441  Eight-Flower Six-Weeks Grass, Pullout Grass, S...  Species of no concern   \n",
       "233                                      Annual Fescue  Species of no concern   \n",
       "232                                     Rattail Fescue  Species of no concern   \n",
       "555  Foxtail Fescue, Rattail Fescue, Rat-Tail Fescu...  Species of no concern   \n",
       "554  Brome Fescue, Brome Six-Weeks Grass, Desert Fe...  Species of no concern   \n",
       "231                                             Fescue  Species of no concern   \n",
       "37                   Blue-Headed Vireo, Solitary Vireo  Species of no concern   \n",
       "297                                  Blue-Headed Vireo  Species of no concern   \n",
       "\n",
       "     duplicate  \n",
       "319       True  \n",
       "56        True  \n",
       "441       True  \n",
       "233       True  \n",
       "232       True  \n",
       "555       True  \n",
       "554       True  \n",
       "231       True  \n",
       "37        True  \n",
       "297       True  "
      ]
     },
     "execution_count": 5,
     "metadata": {},
     "output_type": "execute_result"
    }
   ],
   "source": [
    "#creating a temporary 'duplicate' column to indicate a duplicated entry\n",
    "species_info['duplicate'] = species_info.duplicated(subset=['scientific_name'],keep=False)\n",
    "#creating a temporary df with only duplicate entries\n",
    "species_info_dup = species_info[species_info.duplicate == True].reset_index()\n",
    "#dropping the duplicate column from the main df\n",
    "species_info.drop(labels='duplicate', axis=1, inplace=True)\n",
    "species_info_dup.sort_values(by='scientific_name', inplace=True, ascending=False)\n",
    "#checking a few duplicated entries\n",
    "species_info_dup.head(10)"
   ]
  },
  {
   "cell_type": "markdown",
   "metadata": {},
   "source": [
    "The duplicates will be removed from the dataset, as duplicated scientific names are going to cause issues when attempting to merge the two datasets provided. The only information that is lost during this operation are the alternative common names of the species and potentially different conservation status. While common names are not relevant for the purposes of this project, conservation status is. In the case of conflicting conservation status values the \"worst case scenario\" principle applies. Therefore, these entries will be dropped by ordering them by their conservation status, so that the entry with the \"lowest\" status remains and other instances of the same scientific name are dropped."
   ]
  },
  {
   "cell_type": "code",
   "execution_count": 6,
   "metadata": {},
   "outputs": [],
   "source": [
    "species_info.sort_values(by='conservation_status', inplace=True, ascending=True)\n",
    "species_info.drop_duplicates(subset='scientific_name', keep='first', inplace=True)"
   ]
  },
  {
   "cell_type": "markdown",
   "metadata": {},
   "source": [
    "Additionally, two new columns will be added to the dataframe to facilitate further analysis: a Kingdom column indicating whether the species belongs to the Animal or Plant kingdom; an IsProtected column indicating whether the species falls under any of the conservation status values other than \"Species of no concern\"."
   ]
  },
  {
   "cell_type": "code",
   "execution_count": 7,
   "metadata": {},
   "outputs": [
    {
     "data": {
      "text/html": [
       "<div>\n",
       "<style scoped>\n",
       "    .dataframe tbody tr th:only-of-type {\n",
       "        vertical-align: middle;\n",
       "    }\n",
       "\n",
       "    .dataframe tbody tr th {\n",
       "        vertical-align: top;\n",
       "    }\n",
       "\n",
       "    .dataframe thead th {\n",
       "        text-align: right;\n",
       "    }\n",
       "</style>\n",
       "<table border=\"1\" class=\"dataframe\">\n",
       "  <thead>\n",
       "    <tr style=\"text-align: right;\">\n",
       "      <th></th>\n",
       "      <th>category</th>\n",
       "      <th>scientific_name</th>\n",
       "      <th>common_names</th>\n",
       "      <th>conservation_status</th>\n",
       "      <th>Kingdom</th>\n",
       "      <th>IsProtected</th>\n",
       "    </tr>\n",
       "  </thead>\n",
       "  <tbody>\n",
       "    <tr>\n",
       "      <th>72</th>\n",
       "      <td>Mammal</td>\n",
       "      <td>Glaucomys sabrinus coloratus</td>\n",
       "      <td>Carolina Northern Flying Squirrel, Northern Fl...</td>\n",
       "      <td>Endangered</td>\n",
       "      <td>Animal</td>\n",
       "      <td>True</td>\n",
       "    </tr>\n",
       "    <tr>\n",
       "      <th>4505</th>\n",
       "      <td>Bird</td>\n",
       "      <td>Gymnogyps californianus</td>\n",
       "      <td>California Condor</td>\n",
       "      <td>Endangered</td>\n",
       "      <td>Animal</td>\n",
       "      <td>True</td>\n",
       "    </tr>\n",
       "    <tr>\n",
       "      <th>570</th>\n",
       "      <td>Fish</td>\n",
       "      <td>Noturus baileyi</td>\n",
       "      <td>Smoky Madtom</td>\n",
       "      <td>Endangered</td>\n",
       "      <td>Animal</td>\n",
       "      <td>True</td>\n",
       "    </tr>\n",
       "    <tr>\n",
       "      <th>4601</th>\n",
       "      <td>Amphibian</td>\n",
       "      <td>Rana sierrae</td>\n",
       "      <td>Sierra Nevada Yellow-Legged Frog</td>\n",
       "      <td>Endangered</td>\n",
       "      <td>Animal</td>\n",
       "      <td>True</td>\n",
       "    </tr>\n",
       "    <tr>\n",
       "      <th>2497</th>\n",
       "      <td>Vascular Plant</td>\n",
       "      <td>Geum radiatum</td>\n",
       "      <td>Mountain Avens, Spreading Avens</td>\n",
       "      <td>Endangered</td>\n",
       "      <td>Plant</td>\n",
       "      <td>True</td>\n",
       "    </tr>\n",
       "  </tbody>\n",
       "</table>\n",
       "</div>"
      ],
      "text/plain": [
       "            category               scientific_name  \\\n",
       "72            Mammal  Glaucomys sabrinus coloratus   \n",
       "4505            Bird       Gymnogyps californianus   \n",
       "570             Fish               Noturus baileyi   \n",
       "4601       Amphibian                  Rana sierrae   \n",
       "2497  Vascular Plant                 Geum radiatum   \n",
       "\n",
       "                                           common_names conservation_status  \\\n",
       "72    Carolina Northern Flying Squirrel, Northern Fl...          Endangered   \n",
       "4505                                  California Condor          Endangered   \n",
       "570                                        Smoky Madtom          Endangered   \n",
       "4601                   Sierra Nevada Yellow-Legged Frog          Endangered   \n",
       "2497                    Mountain Avens, Spreading Avens          Endangered   \n",
       "\n",
       "     Kingdom  IsProtected  \n",
       "72    Animal         True  \n",
       "4505  Animal         True  \n",
       "570   Animal         True  \n",
       "4601  Animal         True  \n",
       "2497   Plant         True  "
      ]
     },
     "execution_count": 7,
     "metadata": {},
     "output_type": "execute_result"
    }
   ],
   "source": [
    "def kingdom_check(x):\n",
    "    if x in ['Vascular Plant', 'Nonvascular Plant']:\n",
    "        return 'Plant'\n",
    "    else:\n",
    "        return 'Animal'\n",
    "species_info['Kingdom'] = species_info.category.apply(kingdom_check)\n",
    "species_info['IsProtected'] = species_info.conservation_status != 'Species of no concern'\n",
    "species_info.head()"
   ]
  },
  {
   "cell_type": "markdown",
   "metadata": {},
   "source": [
    "### Inspecting 'observations.csv'"
   ]
  },
  {
   "cell_type": "markdown",
   "metadata": {},
   "source": [
    "'observations.csv' lists sightings of individual species including (1) their scientific name, (2) the park name that reported the sightings, (3) the total number of reported sightings (i.e. observations) for the given entry. No modifications of the dataset are necessary."
   ]
  },
  {
   "cell_type": "code",
   "execution_count": 8,
   "metadata": {},
   "outputs": [
    {
     "name": "stdout",
     "output_type": "stream",
     "text": [
      "##################################\n",
      "General info:\n",
      "<class 'pandas.core.frame.DataFrame'>\n",
      "Int64Index: 23281 entries, 0 to 23295\n",
      "Data columns (total 3 columns):\n",
      " #   Column           Non-Null Count  Dtype \n",
      "---  ------           --------------  ----- \n",
      " 0   scientific_name  23281 non-null  object\n",
      " 1   park_name        23281 non-null  object\n",
      " 2   observations     23281 non-null  int64 \n",
      "dtypes: int64(1), object(2)\n",
      "memory usage: 727.5+ KB\n",
      "None\n",
      "##################################\n",
      "Number of rows and columns:\n",
      "(23281, 3)\n",
      "##################################\n",
      "List park names\n",
      "['Great Smoky Mountains National Park' 'Yosemite National Park'\n",
      " 'Bryce National Park' 'Yellowstone National Park']\n",
      "##################################\n",
      "The number of unique scientific_names is equal between the two data sets:\n",
      "True\n",
      "##################################\n",
      "Sample of the dataset:\n"
     ]
    },
    {
     "data": {
      "text/html": [
       "<div>\n",
       "<style scoped>\n",
       "    .dataframe tbody tr th:only-of-type {\n",
       "        vertical-align: middle;\n",
       "    }\n",
       "\n",
       "    .dataframe tbody tr th {\n",
       "        vertical-align: top;\n",
       "    }\n",
       "\n",
       "    .dataframe thead th {\n",
       "        text-align: right;\n",
       "    }\n",
       "</style>\n",
       "<table border=\"1\" class=\"dataframe\">\n",
       "  <thead>\n",
       "    <tr style=\"text-align: right;\">\n",
       "      <th></th>\n",
       "      <th>scientific_name</th>\n",
       "      <th>park_name</th>\n",
       "      <th>observations</th>\n",
       "    </tr>\n",
       "  </thead>\n",
       "  <tbody>\n",
       "    <tr>\n",
       "      <th>0</th>\n",
       "      <td>Vicia benghalensis</td>\n",
       "      <td>Great Smoky Mountains National Park</td>\n",
       "      <td>68</td>\n",
       "    </tr>\n",
       "    <tr>\n",
       "      <th>1</th>\n",
       "      <td>Neovison vison</td>\n",
       "      <td>Great Smoky Mountains National Park</td>\n",
       "      <td>77</td>\n",
       "    </tr>\n",
       "    <tr>\n",
       "      <th>2</th>\n",
       "      <td>Prunus subcordata</td>\n",
       "      <td>Yosemite National Park</td>\n",
       "      <td>138</td>\n",
       "    </tr>\n",
       "    <tr>\n",
       "      <th>3</th>\n",
       "      <td>Abutilon theophrasti</td>\n",
       "      <td>Bryce National Park</td>\n",
       "      <td>84</td>\n",
       "    </tr>\n",
       "    <tr>\n",
       "      <th>4</th>\n",
       "      <td>Githopsis specularioides</td>\n",
       "      <td>Great Smoky Mountains National Park</td>\n",
       "      <td>85</td>\n",
       "    </tr>\n",
       "  </tbody>\n",
       "</table>\n",
       "</div>"
      ],
      "text/plain": [
       "            scientific_name                            park_name  observations\n",
       "0        Vicia benghalensis  Great Smoky Mountains National Park            68\n",
       "1            Neovison vison  Great Smoky Mountains National Park            77\n",
       "2         Prunus subcordata               Yosemite National Park           138\n",
       "3      Abutilon theophrasti                  Bryce National Park            84\n",
       "4  Githopsis specularioides  Great Smoky Mountains National Park            85"
      ]
     },
     "execution_count": 8,
     "metadata": {},
     "output_type": "execute_result"
    }
   ],
   "source": [
    "#taking a first look at the observations df\n",
    "print('##################################')\n",
    "print('General info:')\n",
    "print(observations.info())\n",
    "print('##################################')\n",
    "print('Number of rows and columns:')\n",
    "print(observations.shape)\n",
    "print('##################################')\n",
    "print('List park names')\n",
    "print(observations.park_name.unique())\n",
    "print('##################################')\n",
    "print('The number of unique scientific_names is equal between the two data sets:')\n",
    "print(len(species_info.scientific_name.unique())==len(observations.scientific_name.unique()))\n",
    "print('##################################')\n",
    "print('Sample of the dataset:')\n",
    "observations.head()\n"
   ]
  },
  {
   "cell_type": "markdown",
   "metadata": {},
   "source": [
    "# Analysis\n",
    "## Species per category"
   ]
  },
  {
   "cell_type": "markdown",
   "metadata": {},
   "source": [
    "As seen in the data break-down below, Vascular Plants amount to 76.9% of all species in the dataset. The second most common category is the Bird which constitutes 8.8% of all species in the dataset, while the least common are Amphibians (1.43%) and Reptiles (1.4%)."
   ]
  },
  {
   "cell_type": "code",
   "execution_count": 22,
   "metadata": {},
   "outputs": [
    {
     "data": {
      "image/png": "[encoded data removed]",
      "text/plain": [
       "<Figure size 864x432 with 1 Axes>"
      ]
     },
     "metadata": {
      "needs_background": "light"
     },
     "output_type": "display_data"
    },
    {
     "data": {
      "text/html": [
       "<div>\n",
       "<style scoped>\n",
       "    .dataframe tbody tr th:only-of-type {\n",
       "        vertical-align: middle;\n",
       "    }\n",
       "\n",
       "    .dataframe tbody tr th {\n",
       "        vertical-align: top;\n",
       "    }\n",
       "\n",
       "    .dataframe thead th {\n",
       "        text-align: right;\n",
       "    }\n",
       "</style>\n",
       "<table border=\"1\" class=\"dataframe\">\n",
       "  <thead>\n",
       "    <tr style=\"text-align: right;\">\n",
       "      <th></th>\n",
       "      <th>category</th>\n",
       "      <th>Count</th>\n",
       "      <th>Percentage</th>\n",
       "    </tr>\n",
       "  </thead>\n",
       "  <tbody>\n",
       "    <tr>\n",
       "      <th>0</th>\n",
       "      <td>Amphibian</td>\n",
       "      <td>79</td>\n",
       "      <td>1.425735</td>\n",
       "    </tr>\n",
       "    <tr>\n",
       "      <th>1</th>\n",
       "      <td>Bird</td>\n",
       "      <td>488</td>\n",
       "      <td>8.807075</td>\n",
       "    </tr>\n",
       "    <tr>\n",
       "      <th>2</th>\n",
       "      <td>Fish</td>\n",
       "      <td>125</td>\n",
       "      <td>2.255910</td>\n",
       "    </tr>\n",
       "    <tr>\n",
       "      <th>3</th>\n",
       "      <td>Mammal</td>\n",
       "      <td>176</td>\n",
       "      <td>3.176322</td>\n",
       "    </tr>\n",
       "    <tr>\n",
       "      <th>4</th>\n",
       "      <td>Nonvascular Plant</td>\n",
       "      <td>333</td>\n",
       "      <td>6.009746</td>\n",
       "    </tr>\n",
       "    <tr>\n",
       "      <th>5</th>\n",
       "      <td>Reptile</td>\n",
       "      <td>78</td>\n",
       "      <td>1.407688</td>\n",
       "    </tr>\n",
       "    <tr>\n",
       "      <th>6</th>\n",
       "      <td>Vascular Plant</td>\n",
       "      <td>4262</td>\n",
       "      <td>76.917524</td>\n",
       "    </tr>\n",
       "  </tbody>\n",
       "</table>\n",
       "</div>"
      ],
      "text/plain": [
       "            category  Count  Percentage\n",
       "0          Amphibian     79    1.425735\n",
       "1               Bird    488    8.807075\n",
       "2               Fish    125    2.255910\n",
       "3             Mammal    176    3.176322\n",
       "4  Nonvascular Plant    333    6.009746\n",
       "5            Reptile     78    1.407688\n",
       "6     Vascular Plant   4262   76.917524"
      ]
     },
     "execution_count": 22,
     "metadata": {},
     "output_type": "execute_result"
    },
    {
     "data": {
      "text/plain": [
       "<Figure size 432x288 with 0 Axes>"
      ]
     },
     "metadata": {},
     "output_type": "display_data"
    }
   ],
   "source": [
    "species_info.shape[0]\n",
    "species_grouping = species_info.groupby('category').size().reset_index()\n",
    "species_grouping.columns= ['category', 'Count']\n",
    "species_grouping['Percentage'] = species_grouping.Count / species_info.shape[0] * 100\n",
    "plt.figure(figsize=(12,6))\n",
    "plt.title('No. of species per category')\n",
    "sns.barplot(data=species_grouping, x=\"category\", y='Count')\n",
    "plt.show()\n",
    "plt.clf()\n",
    "species_grouping"
   ]
  },
  {
   "cell_type": "markdown",
   "metadata": {},
   "source": [
    "Considering only the animal kingdom from the dataset, Birds represent 51.6% of all animal species in the dataset, followed by Mammals (18.6%), Fish (13.2%), Amphibians (8.4%) and Reptiles (8.2%)."
   ]
  },
  {
   "cell_type": "code",
   "execution_count": 21,
   "metadata": {},
   "outputs": [
    {
     "data": {
      "image/png": "[encoded data removed]",
      "text/plain": [
       "<Figure size 864x432 with 1 Axes>"
      ]
     },
     "metadata": {
      "needs_background": "light"
     },
     "output_type": "display_data"
    },
    {
     "data": {
      "text/html": [
       "<div>\n",
       "<style scoped>\n",
       "    .dataframe tbody tr th:only-of-type {\n",
       "        vertical-align: middle;\n",
       "    }\n",
       "\n",
       "    .dataframe tbody tr th {\n",
       "        vertical-align: top;\n",
       "    }\n",
       "\n",
       "    .dataframe thead th {\n",
       "        text-align: right;\n",
       "    }\n",
       "</style>\n",
       "<table border=\"1\" class=\"dataframe\">\n",
       "  <thead>\n",
       "    <tr style=\"text-align: right;\">\n",
       "      <th></th>\n",
       "      <th>category</th>\n",
       "      <th>Count</th>\n",
       "      <th>Percentage</th>\n",
       "    </tr>\n",
       "  </thead>\n",
       "  <tbody>\n",
       "    <tr>\n",
       "      <th>0</th>\n",
       "      <td>Amphibian</td>\n",
       "      <td>79</td>\n",
       "      <td>8.350951</td>\n",
       "    </tr>\n",
       "    <tr>\n",
       "      <th>1</th>\n",
       "      <td>Bird</td>\n",
       "      <td>488</td>\n",
       "      <td>51.585624</td>\n",
       "    </tr>\n",
       "    <tr>\n",
       "      <th>2</th>\n",
       "      <td>Fish</td>\n",
       "      <td>125</td>\n",
       "      <td>13.213531</td>\n",
       "    </tr>\n",
       "    <tr>\n",
       "      <th>3</th>\n",
       "      <td>Mammal</td>\n",
       "      <td>176</td>\n",
       "      <td>18.604651</td>\n",
       "    </tr>\n",
       "    <tr>\n",
       "      <th>4</th>\n",
       "      <td>Reptile</td>\n",
       "      <td>78</td>\n",
       "      <td>8.245243</td>\n",
       "    </tr>\n",
       "  </tbody>\n",
       "</table>\n",
       "</div>"
      ],
      "text/plain": [
       "    category  Count  Percentage\n",
       "0  Amphibian     79    8.350951\n",
       "1       Bird    488   51.585624\n",
       "2       Fish    125   13.213531\n",
       "3     Mammal    176   18.604651\n",
       "4    Reptile     78    8.245243"
      ]
     },
     "execution_count": 21,
     "metadata": {},
     "output_type": "execute_result"
    },
    {
     "data": {
      "text/plain": [
       "<Figure size 432x288 with 0 Axes>"
      ]
     },
     "metadata": {},
     "output_type": "display_data"
    }
   ],
   "source": [
    "species_grouping_animals = species_info[species_info.Kingdom =='Animal'].groupby('category').size().reset_index()\n",
    "species_grouping_animals.columns= ['category', 'Count']\n",
    "species_grouping_animals['Percentage'] = species_grouping_animals.Count / species_info[species_info.Kingdom =='Animal'].shape[0] * 100\n",
    "plt.figure(figsize=(12,6))\n",
    "plt.title('No. of animal species per category')\n",
    "sns.barplot(data=species_grouping_animals, x=\"category\", y='Count')\n",
    "plt.show()\n",
    "plt.clf()\n",
    "species_grouping_animals"
   ]
  },
  {
   "cell_type": "markdown",
   "metadata": {},
   "source": [
    "## Categories per conservation status"
   ]
  },
  {
   "cell_type": "markdown",
   "metadata": {},
   "source": [
    "The break-down below summarizes the percentage of protected species out of all species from the given category. As seen below, mammals are most likely to be placed under protection as 17% of all mammals from the dataset are considered protected species. Birds are second, with 15.3% of species under protection. On the other hand, only 1% of vascular plants from the dataset are protected."
   ]
  },
  {
   "cell_type": "code",
   "execution_count": 13,
   "metadata": {},
   "outputs": [
    {
     "data": {
      "text/html": [
       "<div>\n",
       "<style scoped>\n",
       "    .dataframe tbody tr th:only-of-type {\n",
       "        vertical-align: middle;\n",
       "    }\n",
       "\n",
       "    .dataframe tbody tr th {\n",
       "        vertical-align: top;\n",
       "    }\n",
       "\n",
       "    .dataframe thead th {\n",
       "        text-align: right;\n",
       "    }\n",
       "</style>\n",
       "<table border=\"1\" class=\"dataframe\">\n",
       "  <thead>\n",
       "    <tr style=\"text-align: right;\">\n",
       "      <th></th>\n",
       "      <th>Category</th>\n",
       "      <th>Not Protected</th>\n",
       "      <th>Protected</th>\n",
       "      <th>% of protected</th>\n",
       "    </tr>\n",
       "  </thead>\n",
       "  <tbody>\n",
       "    <tr>\n",
       "      <th>0</th>\n",
       "      <td>Amphibian</td>\n",
       "      <td>72</td>\n",
       "      <td>7</td>\n",
       "      <td>8.860759</td>\n",
       "    </tr>\n",
       "    <tr>\n",
       "      <th>1</th>\n",
       "      <td>Bird</td>\n",
       "      <td>413</td>\n",
       "      <td>75</td>\n",
       "      <td>15.368852</td>\n",
       "    </tr>\n",
       "    <tr>\n",
       "      <th>2</th>\n",
       "      <td>Fish</td>\n",
       "      <td>114</td>\n",
       "      <td>11</td>\n",
       "      <td>8.800000</td>\n",
       "    </tr>\n",
       "    <tr>\n",
       "      <th>3</th>\n",
       "      <td>Mammal</td>\n",
       "      <td>146</td>\n",
       "      <td>30</td>\n",
       "      <td>17.045455</td>\n",
       "    </tr>\n",
       "    <tr>\n",
       "      <th>4</th>\n",
       "      <td>Nonvascular Plant</td>\n",
       "      <td>328</td>\n",
       "      <td>5</td>\n",
       "      <td>1.501502</td>\n",
       "    </tr>\n",
       "    <tr>\n",
       "      <th>5</th>\n",
       "      <td>Reptile</td>\n",
       "      <td>73</td>\n",
       "      <td>5</td>\n",
       "      <td>6.410256</td>\n",
       "    </tr>\n",
       "    <tr>\n",
       "      <th>6</th>\n",
       "      <td>Vascular Plant</td>\n",
       "      <td>4216</td>\n",
       "      <td>46</td>\n",
       "      <td>1.079305</td>\n",
       "    </tr>\n",
       "  </tbody>\n",
       "</table>\n",
       "</div>"
      ],
      "text/plain": [
       "            Category  Not Protected  Protected  % of protected\n",
       "0          Amphibian             72          7        8.860759\n",
       "1               Bird            413         75       15.368852\n",
       "2               Fish            114         11        8.800000\n",
       "3             Mammal            146         30       17.045455\n",
       "4  Nonvascular Plant            328          5        1.501502\n",
       "5            Reptile             73          5        6.410256\n",
       "6     Vascular Plant           4216         46        1.079305"
      ]
     },
     "execution_count": 13,
     "metadata": {},
     "output_type": "execute_result"
    }
   ],
   "source": [
    "species_grouping = species_info.groupby(['category','IsProtected']).scientific_name.nunique().reset_index()\\\n",
    "                        .pivot(columns='IsProtected',\n",
    "                                      index='category',\n",
    "                                      values='scientific_name')\\\n",
    "                        .reset_index()\n",
    "species_grouping.columns = ['Category', 'Not Protected', 'Protected']\n",
    "species_grouping['% of protected'] = species_grouping.Protected / (species_grouping.Protected + species_grouping['Not Protected']) * 100\n",
    "\n",
    "species_grouping"
   ]
  },
  {
   "cell_type": "markdown",
   "metadata": {},
   "source": [
    "A more detailed break-down, where specific conservation status is displayed can be seen below:"
   ]
  },
  {
   "cell_type": "code",
   "execution_count": 23,
   "metadata": {},
   "outputs": [
    {
     "data": {
      "text/html": [
       "<div>\n",
       "<style scoped>\n",
       "    .dataframe tbody tr th:only-of-type {\n",
       "        vertical-align: middle;\n",
       "    }\n",
       "\n",
       "    .dataframe tbody tr th {\n",
       "        vertical-align: top;\n",
       "    }\n",
       "\n",
       "    .dataframe thead th {\n",
       "        text-align: right;\n",
       "    }\n",
       "</style>\n",
       "<table border=\"1\" class=\"dataframe\">\n",
       "  <thead>\n",
       "    <tr style=\"text-align: right;\">\n",
       "      <th>category</th>\n",
       "      <th>Amphibian</th>\n",
       "      <th>Bird</th>\n",
       "      <th>Fish</th>\n",
       "      <th>Mammal</th>\n",
       "      <th>Nonvascular Plant</th>\n",
       "      <th>Reptile</th>\n",
       "      <th>Vascular Plant</th>\n",
       "    </tr>\n",
       "    <tr>\n",
       "      <th>conservation_status</th>\n",
       "      <th></th>\n",
       "      <th></th>\n",
       "      <th></th>\n",
       "      <th></th>\n",
       "      <th></th>\n",
       "      <th></th>\n",
       "      <th></th>\n",
       "    </tr>\n",
       "  </thead>\n",
       "  <tbody>\n",
       "    <tr>\n",
       "      <th>Endangered</th>\n",
       "      <td>1</td>\n",
       "      <td>4</td>\n",
       "      <td>3</td>\n",
       "      <td>6</td>\n",
       "      <td>0</td>\n",
       "      <td>0</td>\n",
       "      <td>1</td>\n",
       "    </tr>\n",
       "    <tr>\n",
       "      <th>Threatened</th>\n",
       "      <td>2</td>\n",
       "      <td>0</td>\n",
       "      <td>4</td>\n",
       "      <td>2</td>\n",
       "      <td>0</td>\n",
       "      <td>0</td>\n",
       "      <td>2</td>\n",
       "    </tr>\n",
       "    <tr>\n",
       "      <th>In Recovery</th>\n",
       "      <td>0</td>\n",
       "      <td>3</td>\n",
       "      <td>0</td>\n",
       "      <td>0</td>\n",
       "      <td>0</td>\n",
       "      <td>0</td>\n",
       "      <td>0</td>\n",
       "    </tr>\n",
       "    <tr>\n",
       "      <th>Species of Concern</th>\n",
       "      <td>4</td>\n",
       "      <td>68</td>\n",
       "      <td>4</td>\n",
       "      <td>22</td>\n",
       "      <td>5</td>\n",
       "      <td>5</td>\n",
       "      <td>43</td>\n",
       "    </tr>\n",
       "  </tbody>\n",
       "</table>\n",
       "</div>"
      ],
      "text/plain": [
       "category             Amphibian  Bird  Fish  Mammal  Nonvascular Plant  \\\n",
       "conservation_status                                                     \n",
       "Endangered                   1     4     3       6                  0   \n",
       "Threatened                   2     0     4       2                  0   \n",
       "In Recovery                  0     3     0       0                  0   \n",
       "Species of Concern           4    68     4      22                  5   \n",
       "\n",
       "category             Reptile  Vascular Plant  \n",
       "conservation_status                           \n",
       "Endangered                 0               1  \n",
       "Threatened                 0               2  \n",
       "In Recovery                0               0  \n",
       "Species of Concern         5              43  "
      ]
     },
     "execution_count": 23,
     "metadata": {},
     "output_type": "execute_result"
    },
    {
     "data": {
      "image/png": "[encoded data removed]",
      "text/plain": [
       "<Figure size 576x432 with 1 Axes>"
      ]
     },
     "metadata": {
      "needs_background": "light"
     },
     "output_type": "display_data"
    }
   ],
   "source": [
    "cat_per_cons_status = species_info[species_info.conservation_status != 'Species of no concern'].reset_index()\n",
    "cat_per_cons_status[\"conservation_status\"] = cat_per_cons_status[\"conservation_status\"].astype(\"object\")\n",
    "cat_per_cons_status[\"conservation_status\"] = cat_per_cons_status[\"conservation_status\"].astype(\"category\").cat.reorder_categories(['Endangered', 'Threatened', 'In Recovery', 'Species of Concern'], ordered=True)\n",
    "\n",
    "cat_per_cons_status = cat_per_cons_status.groupby([\"conservation_status\", \"category\"])['scientific_name']\\\n",
    "    .count()\\\n",
    "    .unstack()\n",
    "\n",
    "ax = cat_per_cons_status.plot(kind = 'bar', figsize=(8,6), \n",
    "                               stacked=True)\n",
    "ax.set_xlabel(\"Conservation Status\")\n",
    "ax.set_ylabel(\"Number of Species\")\n",
    "ax.set_title('Conservation status and category break down')\n"
   ]
  },
  {
   "cell_type": "code",
   "execution_count": 24,
   "metadata": {},
   "outputs": [
    {
     "data": {
      "text/html": [
       "<div>\n",
       "<style scoped>\n",
       "    .dataframe tbody tr th:only-of-type {\n",
       "        vertical-align: middle;\n",
       "    }\n",
       "\n",
       "    .dataframe tbody tr th {\n",
       "        vertical-align: top;\n",
       "    }\n",
       "\n",
       "    .dataframe thead th {\n",
       "        text-align: right;\n",
       "    }\n",
       "</style>\n",
       "<table border=\"1\" class=\"dataframe\">\n",
       "  <thead>\n",
       "    <tr style=\"text-align: right;\">\n",
       "      <th>category</th>\n",
       "      <th>Amphibian</th>\n",
       "      <th>Bird</th>\n",
       "      <th>Fish</th>\n",
       "      <th>Mammal</th>\n",
       "      <th>Nonvascular Plant</th>\n",
       "      <th>Reptile</th>\n",
       "      <th>Vascular Plant</th>\n",
       "    </tr>\n",
       "    <tr>\n",
       "      <th>conservation_status</th>\n",
       "      <th></th>\n",
       "      <th></th>\n",
       "      <th></th>\n",
       "      <th></th>\n",
       "      <th></th>\n",
       "      <th></th>\n",
       "      <th></th>\n",
       "    </tr>\n",
       "  </thead>\n",
       "  <tbody>\n",
       "    <tr>\n",
       "      <th>Endangered</th>\n",
       "      <td>1</td>\n",
       "      <td>4</td>\n",
       "      <td>3</td>\n",
       "      <td>6</td>\n",
       "      <td>0</td>\n",
       "      <td>0</td>\n",
       "      <td>1</td>\n",
       "    </tr>\n",
       "    <tr>\n",
       "      <th>Threatened</th>\n",
       "      <td>2</td>\n",
       "      <td>0</td>\n",
       "      <td>4</td>\n",
       "      <td>2</td>\n",
       "      <td>0</td>\n",
       "      <td>0</td>\n",
       "      <td>2</td>\n",
       "    </tr>\n",
       "    <tr>\n",
       "      <th>In Recovery</th>\n",
       "      <td>0</td>\n",
       "      <td>3</td>\n",
       "      <td>0</td>\n",
       "      <td>0</td>\n",
       "      <td>0</td>\n",
       "      <td>0</td>\n",
       "      <td>0</td>\n",
       "    </tr>\n",
       "    <tr>\n",
       "      <th>Species of Concern</th>\n",
       "      <td>4</td>\n",
       "      <td>68</td>\n",
       "      <td>4</td>\n",
       "      <td>22</td>\n",
       "      <td>5</td>\n",
       "      <td>5</td>\n",
       "      <td>43</td>\n",
       "    </tr>\n",
       "  </tbody>\n",
       "</table>\n",
       "</div>"
      ],
      "text/plain": [
       "category             Amphibian  Bird  Fish  Mammal  Nonvascular Plant  \\\n",
       "conservation_status                                                     \n",
       "Endangered                   1     4     3       6                  0   \n",
       "Threatened                   2     0     4       2                  0   \n",
       "In Recovery                  0     3     0       0                  0   \n",
       "Species of Concern           4    68     4      22                  5   \n",
       "\n",
       "category             Reptile  Vascular Plant  \n",
       "conservation_status                           \n",
       "Endangered                 0               1  \n",
       "Threatened                 0               2  \n",
       "In Recovery                0               0  \n",
       "Species of Concern         5              43  "
      ]
     },
     "execution_count": 24,
     "metadata": {},
     "output_type": "execute_result"
    }
   ],
   "source": [
    "cat_per_cons_status"
   ]
  },
  {
   "cell_type": "markdown",
   "metadata": {},
   "source": [
    "## Statistical significance"
   ]
  },
  {
   "cell_type": "markdown",
   "metadata": {},
   "source": [
    "This section will run some chi-squared tests to see if different species have statistically significant differences in conservation status rates. Below are the results of running a contigency table for every combination of categories and their protected/not protected species counts.\n",
    "It appears that significant differences in the number of protected species are detected between each animal category and each plant category (e.g. amphibians and nonvascular plants; mammals and vascular plants, etc.), which is not surprising considering the relatively low percentage of protected species reported for plants when compared to animals.\n",
    "Significant differences within the animal kingdom were detected only between mammals and reptiles. This is a strong indication that mammals are stastistically more likely to be under protection than reptiles."
   ]
  },
  {
   "cell_type": "code",
   "execution_count": 16,
   "metadata": {},
   "outputs": [
    {
     "name": "stdout",
     "output_type": "stream",
     "text": [
      "Amphibians and Birds DID NOT have significant difference in conservation percentage\n",
      "Amphibians and Fishs DID NOT have significant difference in conservation percentage\n",
      "Amphibians and Mammals DID NOT have significant difference in conservation percentage\n",
      "Amphibians and Nonvascular Plants EXHIBIT statistically significant difference in conservation percentage\n",
      "Amphibians and Reptiles DID NOT have significant difference in conservation percentage\n",
      "Amphibians and Vascular Plants EXHIBIT statistically significant difference in conservation percentage\n",
      "Birds and Fishs DID NOT have significant difference in conservation percentage\n",
      "Birds and Mammals DID NOT have significant difference in conservation percentage\n",
      "Birds and Nonvascular Plants EXHIBIT statistically significant difference in conservation percentage\n",
      "Birds and Reptiles DID NOT have significant difference in conservation percentage\n",
      "Birds and Vascular Plants EXHIBIT statistically significant difference in conservation percentage\n",
      "Fishs and Mammals DID NOT have significant difference in conservation percentage\n",
      "Fishs and Nonvascular Plants EXHIBIT statistically significant difference in conservation percentage\n",
      "Fishs and Reptiles DID NOT have significant difference in conservation percentage\n",
      "Fishs and Vascular Plants EXHIBIT statistically significant difference in conservation percentage\n",
      "Mammals and Nonvascular Plants EXHIBIT statistically significant difference in conservation percentage\n",
      "Mammals and Reptiles EXHIBIT statistically significant difference in conservation percentage\n",
      "Mammals and Vascular Plants EXHIBIT statistically significant difference in conservation percentage\n",
      "Nonvascular Plants and Reptiles EXHIBIT statistically significant difference in conservation percentage\n",
      "Nonvascular Plants and Vascular Plants DID NOT have significant difference in conservation percentage\n",
      "Reptiles and Vascular Plants EXHIBIT statistically significant difference in conservation percentage\n"
     ]
    }
   ],
   "source": [
    "for i in list(itertools.combinations(species_grouping.Category, 2)):\n",
    "    contingency1 = [[species_grouping['Protected'][species_grouping.Category == i[0]].item(), species_grouping['Not Protected'][species_grouping.Category == i[0]].item()],\n",
    "                 [species_grouping['Protected'][species_grouping.Category == i[1]].item(), species_grouping['Not Protected'][species_grouping.Category == i[1]].item()]]\n",
    "    chi, p_value, x1, x2 = chi2_contingency(contingency1)\n",
    "    if p_value > 0.05:\n",
    "        print(f'{i[0]}s and {i[1]}s DID NOT have significant difference in conservation percentage')\n",
    "    else:\n",
    "        print(f'{i[0]}s and {i[1]}s EXHIBIT statistically significant difference in conservation percentage')\n",
    "    \n",
    "    \n"
   ]
  },
  {
   "cell_type": "markdown",
   "metadata": {},
   "source": [
    "## Analysis of park observations"
   ]
  },
  {
   "cell_type": "markdown",
   "metadata": {},
   "source": [
    "The two datasets are merged for the purposes of further analysis."
   ]
  },
  {
   "cell_type": "code",
   "execution_count": 17,
   "metadata": {},
   "outputs": [
    {
     "name": "stdout",
     "output_type": "stream",
     "text": [
      "<class 'pandas.core.frame.DataFrame'>\n",
      "Int64Index: 23281 entries, 0 to 23280\n",
      "Data columns (total 8 columns):\n",
      " #   Column               Non-Null Count  Dtype   \n",
      "---  ------               --------------  -----   \n",
      " 0   scientific_name      23281 non-null  object  \n",
      " 1   park_name            23281 non-null  object  \n",
      " 2   observations         23281 non-null  int64   \n",
      " 3   category             23281 non-null  object  \n",
      " 4   common_names         23281 non-null  object  \n",
      " 5   conservation_status  23281 non-null  category\n",
      " 6   Kingdom              23281 non-null  object  \n",
      " 7   IsProtected          23281 non-null  bool    \n",
      "dtypes: bool(1), category(1), int64(1), object(5)\n",
      "memory usage: 1.3+ MB\n",
      "None\n"
     ]
    },
    {
     "data": {
      "text/html": [
       "<div>\n",
       "<style scoped>\n",
       "    .dataframe tbody tr th:only-of-type {\n",
       "        vertical-align: middle;\n",
       "    }\n",
       "\n",
       "    .dataframe tbody tr th {\n",
       "        vertical-align: top;\n",
       "    }\n",
       "\n",
       "    .dataframe thead th {\n",
       "        text-align: right;\n",
       "    }\n",
       "</style>\n",
       "<table border=\"1\" class=\"dataframe\">\n",
       "  <thead>\n",
       "    <tr style=\"text-align: right;\">\n",
       "      <th></th>\n",
       "      <th>scientific_name</th>\n",
       "      <th>park_name</th>\n",
       "      <th>observations</th>\n",
       "      <th>category</th>\n",
       "      <th>common_names</th>\n",
       "      <th>conservation_status</th>\n",
       "      <th>Kingdom</th>\n",
       "      <th>IsProtected</th>\n",
       "    </tr>\n",
       "  </thead>\n",
       "  <tbody>\n",
       "    <tr>\n",
       "      <th>0</th>\n",
       "      <td>Vicia benghalensis</td>\n",
       "      <td>Great Smoky Mountains National Park</td>\n",
       "      <td>68</td>\n",
       "      <td>Vascular Plant</td>\n",
       "      <td>Purple Vetch, Reddish Tufted Vetch</td>\n",
       "      <td>Species of no concern</td>\n",
       "      <td>Plant</td>\n",
       "      <td>False</td>\n",
       "    </tr>\n",
       "    <tr>\n",
       "      <th>1</th>\n",
       "      <td>Neovison vison</td>\n",
       "      <td>Great Smoky Mountains National Park</td>\n",
       "      <td>77</td>\n",
       "      <td>Mammal</td>\n",
       "      <td>American Mink</td>\n",
       "      <td>Species of no concern</td>\n",
       "      <td>Animal</td>\n",
       "      <td>False</td>\n",
       "    </tr>\n",
       "    <tr>\n",
       "      <th>2</th>\n",
       "      <td>Prunus subcordata</td>\n",
       "      <td>Yosemite National Park</td>\n",
       "      <td>138</td>\n",
       "      <td>Vascular Plant</td>\n",
       "      <td>Klamath Plum</td>\n",
       "      <td>Species of no concern</td>\n",
       "      <td>Plant</td>\n",
       "      <td>False</td>\n",
       "    </tr>\n",
       "    <tr>\n",
       "      <th>3</th>\n",
       "      <td>Abutilon theophrasti</td>\n",
       "      <td>Bryce National Park</td>\n",
       "      <td>84</td>\n",
       "      <td>Vascular Plant</td>\n",
       "      <td>Velvetleaf</td>\n",
       "      <td>Species of no concern</td>\n",
       "      <td>Plant</td>\n",
       "      <td>False</td>\n",
       "    </tr>\n",
       "    <tr>\n",
       "      <th>4</th>\n",
       "      <td>Githopsis specularioides</td>\n",
       "      <td>Great Smoky Mountains National Park</td>\n",
       "      <td>85</td>\n",
       "      <td>Vascular Plant</td>\n",
       "      <td>Common Bluecup</td>\n",
       "      <td>Species of no concern</td>\n",
       "      <td>Plant</td>\n",
       "      <td>False</td>\n",
       "    </tr>\n",
       "  </tbody>\n",
       "</table>\n",
       "</div>"
      ],
      "text/plain": [
       "            scientific_name                            park_name  \\\n",
       "0        Vicia benghalensis  Great Smoky Mountains National Park   \n",
       "1            Neovison vison  Great Smoky Mountains National Park   \n",
       "2         Prunus subcordata               Yosemite National Park   \n",
       "3      Abutilon theophrasti                  Bryce National Park   \n",
       "4  Githopsis specularioides  Great Smoky Mountains National Park   \n",
       "\n",
       "   observations        category                        common_names  \\\n",
       "0            68  Vascular Plant  Purple Vetch, Reddish Tufted Vetch   \n",
       "1            77          Mammal                       American Mink   \n",
       "2           138  Vascular Plant                        Klamath Plum   \n",
       "3            84  Vascular Plant                          Velvetleaf   \n",
       "4            85  Vascular Plant                      Common Bluecup   \n",
       "\n",
       "     conservation_status Kingdom  IsProtected  \n",
       "0  Species of no concern   Plant        False  \n",
       "1  Species of no concern  Animal        False  \n",
       "2  Species of no concern   Plant        False  \n",
       "3  Species of no concern   Plant        False  \n",
       "4  Species of no concern   Plant        False  "
      ]
     },
     "execution_count": 17,
     "metadata": {},
     "output_type": "execute_result"
    }
   ],
   "source": [
    "all_data = pd.merge(\n",
    "    left = observations,\n",
    "    right = species_info,\n",
    "    left_on = 'scientific_name',\n",
    "    right_on = 'scientific_name',\n",
    "    how='left')\n",
    "\n",
    "print(all_data.info())\n",
    "all_data.head()"
   ]
  },
  {
   "cell_type": "markdown",
   "metadata": {},
   "source": [
    "The four distinct distributions on the histogram below correspond to the observations from the four parks in the dataset. This indicates that the Yellowstone National Park has reported higher numbers under observations than the other parks, even though all parks have a very similar number of unique species reported in the dataset (ranging between 5818 and 5823).\n",
    "\n",
    "Although this is not part of the dataset, that discrepancies of the number of observations can be partially attributed to the size of the parks, where Yellowstone is significantly bigger (8980 km2) than others (Yosemite is 2nd with 3027 km2). That logic does not hold when looking at the Great Smoky Mountains National Park, which has the lowest number of observations, yet is considerably bigger (2110 km2) than the Bryce National Park (145 km2). There have to be other factors contributing to that observation, but the answer can only be speculative, as it is not evident from the data provided for this project."
   ]
  },
  {
   "cell_type": "code",
   "execution_count": 18,
   "metadata": {},
   "outputs": [
    {
     "data": {
      "image/png": "[encoded data removed]",
      "text/plain": [
       "<Figure size 864x432 with 1 Axes>"
      ]
     },
     "metadata": {
      "needs_background": "light"
     },
     "output_type": "display_data"
    },
    {
     "data": {
      "text/html": [
       "<div>\n",
       "<style scoped>\n",
       "    .dataframe tbody tr th:only-of-type {\n",
       "        vertical-align: middle;\n",
       "    }\n",
       "\n",
       "    .dataframe tbody tr th {\n",
       "        vertical-align: top;\n",
       "    }\n",
       "\n",
       "    .dataframe thead th {\n",
       "        text-align: right;\n",
       "    }\n",
       "</style>\n",
       "<table border=\"1\" class=\"dataframe\">\n",
       "  <thead>\n",
       "    <tr style=\"text-align: right;\">\n",
       "      <th></th>\n",
       "      <th>Park Name</th>\n",
       "      <th>No. of unique species</th>\n",
       "    </tr>\n",
       "  </thead>\n",
       "  <tbody>\n",
       "    <tr>\n",
       "      <th>0</th>\n",
       "      <td>Bryce National Park</td>\n",
       "      <td>5823</td>\n",
       "    </tr>\n",
       "    <tr>\n",
       "      <th>1</th>\n",
       "      <td>Great Smoky Mountains National Park</td>\n",
       "      <td>5818</td>\n",
       "    </tr>\n",
       "    <tr>\n",
       "      <th>2</th>\n",
       "      <td>Yellowstone National Park</td>\n",
       "      <td>5819</td>\n",
       "    </tr>\n",
       "    <tr>\n",
       "      <th>3</th>\n",
       "      <td>Yosemite National Park</td>\n",
       "      <td>5821</td>\n",
       "    </tr>\n",
       "  </tbody>\n",
       "</table>\n",
       "</div>"
      ],
      "text/plain": [
       "                             Park Name  No. of unique species\n",
       "0                  Bryce National Park                   5823\n",
       "1  Great Smoky Mountains National Park                   5818\n",
       "2            Yellowstone National Park                   5819\n",
       "3               Yosemite National Park                   5821"
      ]
     },
     "execution_count": 18,
     "metadata": {},
     "output_type": "execute_result"
    },
    {
     "data": {
      "text/plain": [
       "<Figure size 432x288 with 0 Axes>"
      ]
     },
     "metadata": {},
     "output_type": "display_data"
    }
   ],
   "source": [
    "#check the shape of observations\n",
    "plt.figure(figsize=(12,6))\n",
    "sns.histplot(data=all_data, x='observations', hue='park_name')\n",
    "plt.legend(['Yellowstone National Park','Bryce National Park','Yosemite National Park','Great Smoky Mountains National Park'], bbox_to_anchor=(1.01, 1),loc='upper left', borderaxespad=0.)\n",
    "plt.title('Distribution of observations per park')\n",
    "plt.show()\n",
    "plt.clf()\n",
    "\n",
    "#Number of unique species per park\n",
    "species_per_park = all_data.drop([\"scientific_name\", \"category\", \"common_names\", \"conservation_status\", \"Kingdom\", \"IsProtected\"], axis = 1).groupby('park_name').count().reset_index()\n",
    "species_per_park.columns = ['Park Name', 'No. of unique species']\n",
    "species_per_park\n"
   ]
  },
  {
   "cell_type": "markdown",
   "metadata": {},
   "source": [
    "The charts below summarize the number of reported observations for all species in each park. The data is very consistent across the four parks: the distribution of the total number of observations between the parks corresponds to the distribution of mean number of observations between the parks and the distribution of observations of protected animals, as seen on the three charts below.\n",
    "\n",
    "For instance, Yellowstone National Park reports the highest number of observations, which corresponds to its highest mean number of observations per species, as well as highest number of reported observations of protected animals. That consistency translates into all four parks having a very similar percentage of reports attributed to the protected animal category."
   ]
  },
  {
   "cell_type": "code",
   "execution_count": 19,
   "metadata": {
    "scrolled": false
   },
   "outputs": [
    {
     "data": {
      "image/png": "[encoded data removed]",
      "text/plain": [
       "<Figure size 864x504 with 1 Axes>"
      ]
     },
     "metadata": {
      "needs_background": "light"
     },
     "output_type": "display_data"
    },
    {
     "name": "stdout",
     "output_type": "stream",
     "text": [
      "                             Park Name  Total no. of observations\n",
      "0                  Bryce National Park                     575901\n",
      "1  Great Smoky Mountains National Park                     431378\n",
      "2            Yellowstone National Park                    1442314\n",
      "3               Yosemite National Park                     862836\n"
     ]
    },
    {
     "data": {
      "text/plain": [
       "<Figure size 432x288 with 0 Axes>"
      ]
     },
     "metadata": {},
     "output_type": "display_data"
    },
    {
     "data": {
      "image/png": "[encoded data removed]",
      "text/plain": [
       "<Figure size 864x504 with 1 Axes>"
      ]
     },
     "metadata": {
      "needs_background": "light"
     },
     "output_type": "display_data"
    },
    {
     "name": "stdout",
     "output_type": "stream",
     "text": [
      "                             Park Name  Mean no. of observations\n",
      "0                  Bryce National Park                 98.901082\n",
      "1  Great Smoky Mountains National Park                 74.145411\n",
      "2            Yellowstone National Park                247.862863\n",
      "3               Yosemite National Park                148.228139\n"
     ]
    },
    {
     "data": {
      "text/plain": [
       "<Figure size 432x288 with 0 Axes>"
      ]
     },
     "metadata": {},
     "output_type": "display_data"
    },
    {
     "data": {
      "image/png": "[encoded data removed]",
      "text/plain": [
       "<Figure size 864x504 with 1 Axes>"
      ]
     },
     "metadata": {
      "needs_background": "light"
     },
     "output_type": "display_data"
    },
    {
     "data": {
      "text/html": [
       "<div>\n",
       "<style scoped>\n",
       "    .dataframe tbody tr th:only-of-type {\n",
       "        vertical-align: middle;\n",
       "    }\n",
       "\n",
       "    .dataframe tbody tr th {\n",
       "        vertical-align: top;\n",
       "    }\n",
       "\n",
       "    .dataframe thead th {\n",
       "        text-align: right;\n",
       "    }\n",
       "</style>\n",
       "<table border=\"1\" class=\"dataframe\">\n",
       "  <thead>\n",
       "    <tr style=\"text-align: right;\">\n",
       "      <th></th>\n",
       "      <th>Park Name</th>\n",
       "      <th>Protected animals observations</th>\n",
       "      <th>Total no. of observations</th>\n",
       "      <th>% of protected observations</th>\n",
       "    </tr>\n",
       "  </thead>\n",
       "  <tbody>\n",
       "    <tr>\n",
       "      <th>0</th>\n",
       "      <td>Bryce National Park</td>\n",
       "      <td>11579</td>\n",
       "      <td>575901</td>\n",
       "      <td>1.970961</td>\n",
       "    </tr>\n",
       "    <tr>\n",
       "      <th>1</th>\n",
       "      <td>Great Smoky Mountains National Park</td>\n",
       "      <td>7954</td>\n",
       "      <td>431378</td>\n",
       "      <td>1.810476</td>\n",
       "    </tr>\n",
       "    <tr>\n",
       "      <th>2</th>\n",
       "      <td>Yellowstone National Park</td>\n",
       "      <td>28150</td>\n",
       "      <td>1442314</td>\n",
       "      <td>1.914362</td>\n",
       "    </tr>\n",
       "    <tr>\n",
       "      <th>3</th>\n",
       "      <td>Yosemite National Park</td>\n",
       "      <td>16871</td>\n",
       "      <td>862836</td>\n",
       "      <td>1.917798</td>\n",
       "    </tr>\n",
       "  </tbody>\n",
       "</table>\n",
       "</div>"
      ],
      "text/plain": [
       "                             Park Name  Protected animals observations  \\\n",
       "0                  Bryce National Park                           11579   \n",
       "1  Great Smoky Mountains National Park                            7954   \n",
       "2            Yellowstone National Park                           28150   \n",
       "3               Yosemite National Park                           16871   \n",
       "\n",
       "   Total no. of observations  % of protected observations  \n",
       "0                     575901                     1.970961  \n",
       "1                     431378                     1.810476  \n",
       "2                    1442314                     1.914362  \n",
       "3                     862836                     1.917798  "
      ]
     },
     "execution_count": 19,
     "metadata": {},
     "output_type": "execute_result"
    },
    {
     "data": {
      "text/plain": [
       "<Figure size 432x288 with 0 Axes>"
      ]
     },
     "metadata": {},
     "output_type": "display_data"
    }
   ],
   "source": [
    "#total no. of observations\n",
    "df_sums = observations.drop(\"scientific_name\", axis = 1).groupby(\"park_name\").sum().reset_index()\n",
    "df_sums.columns = ['Park Name', 'Total no. of observations']\n",
    "plt.figure(figsize=(12,7))\n",
    "sns.barplot(data=df_sums, x=\"Park Name\", y='Total no. of observations')\n",
    "plt.title('Total number of observations')\n",
    "plt.xticks(rotation = 25)\n",
    "plt.show()\n",
    "plt.clf()\n",
    "print(df_sums)\n",
    "#mean no. of observations\n",
    "df_means = observations.drop(\"scientific_name\", axis = 1).groupby(\"park_name\").mean().reset_index()\n",
    "df_means.columns = ['Park Name', 'Mean no. of observations']\n",
    "\n",
    "plt.figure(figsize=(12,7))\n",
    "sns.barplot(data=df_means, x=\"Park Name\", y='Mean no. of observations')\n",
    "plt.title('Mean number of observations')\n",
    "plt.xticks(rotation = 25)\n",
    "plt.show()\n",
    "plt.clf()\n",
    "print(df_means)\n",
    "\n",
    "#total no. of observations of protected animals per park\n",
    "protected_animals = all_data[(all_data.Kingdom == 'Animal')&(all_data.IsProtected == True)]\n",
    "df_counts = protected_animals.drop([\"scientific_name\", \"conservation_status\", \"category\", \"Kingdom\", \"IsProtected\"], axis = 1).groupby(\"park_name\").sum().reset_index()\n",
    "df_counts.columns = ['Park Name', 'Protected animals observations']\n",
    "df_new = pd.merge(\n",
    "    left = df_counts,\n",
    "    right = df_sums,\n",
    "    left_on = 'Park Name',\n",
    "    right_on = 'Park Name',\n",
    "    how='left')\n",
    "df_new['% of protected observations'] = df_new['Protected animals observations'] / (df_new['Protected animals observations'] + df_new['Total no. of observations']) * 100\n",
    "plt.figure(figsize=(12,7))\n",
    "sns.barplot(data=df_counts, x=\"Park Name\", y='Protected animals observations')\n",
    "plt.title('Total number of observations for protected animals')\n",
    "plt.xticks(rotation = 25)\n",
    "plt.show()\n",
    "plt.clf()\n",
    "df_new"
   ]
  },
  {
   "cell_type": "markdown",
   "metadata": {},
   "source": [
    "The violin plots below illustrate the relationship between the conservation status and the distribution of observations. One might assume that as the conservation status is less severe, the observations would increase. The plots below confirm that assumption: the Endangered status has a mean observations value of 41, while the Species of no Concern has the highest mean of 143 observations."
   ]
  },
  {
   "cell_type": "code",
   "execution_count": 20,
   "metadata": {},
   "outputs": [
    {
     "data": {
      "image/png": "[encoded data removed]",
      "text/plain": [
       "<Figure size 720x432 with 1 Axes>"
      ]
     },
     "metadata": {
      "needs_background": "light"
     },
     "output_type": "display_data"
    },
    {
     "data": {
      "text/html": [
       "<div>\n",
       "<style scoped>\n",
       "    .dataframe tbody tr th:only-of-type {\n",
       "        vertical-align: middle;\n",
       "    }\n",
       "\n",
       "    .dataframe tbody tr th {\n",
       "        vertical-align: top;\n",
       "    }\n",
       "\n",
       "    .dataframe thead th {\n",
       "        text-align: right;\n",
       "    }\n",
       "</style>\n",
       "<table border=\"1\" class=\"dataframe\">\n",
       "  <thead>\n",
       "    <tr style=\"text-align: right;\">\n",
       "      <th></th>\n",
       "      <th>Park Name</th>\n",
       "      <th>Mean observations</th>\n",
       "    </tr>\n",
       "  </thead>\n",
       "  <tbody>\n",
       "    <tr>\n",
       "      <th>0</th>\n",
       "      <td>Endangered</td>\n",
       "      <td>41.147059</td>\n",
       "    </tr>\n",
       "    <tr>\n",
       "      <th>1</th>\n",
       "      <td>Threatened</td>\n",
       "      <td>75.886364</td>\n",
       "    </tr>\n",
       "    <tr>\n",
       "      <th>2</th>\n",
       "      <td>In Recovery</td>\n",
       "      <td>116.000000</td>\n",
       "    </tr>\n",
       "    <tr>\n",
       "      <th>3</th>\n",
       "      <td>Species of Concern</td>\n",
       "      <td>128.228261</td>\n",
       "    </tr>\n",
       "    <tr>\n",
       "      <th>4</th>\n",
       "      <td>Species of no concern</td>\n",
       "      <td>143.131568</td>\n",
       "    </tr>\n",
       "  </tbody>\n",
       "</table>\n",
       "</div>"
      ],
      "text/plain": [
       "               Park Name  Mean observations\n",
       "0             Endangered          41.147059\n",
       "1             Threatened          75.886364\n",
       "2            In Recovery         116.000000\n",
       "3     Species of Concern         128.228261\n",
       "4  Species of no concern         143.131568"
      ]
     },
     "execution_count": 20,
     "metadata": {},
     "output_type": "execute_result"
    }
   ],
   "source": [
    "#check relationship between status and observations\n",
    "df_means = all_data.drop([\"scientific_name\", \"park_name\", \"category\", \"Kingdom\", \"IsProtected\"], axis = 1).groupby(\"conservation_status\").mean().reset_index()\n",
    "df_means.columns = ['Park Name', 'Mean observations']\n",
    "plt.figure(figsize=(10,6))\n",
    "plt.title('Number of observations per consvervation status')\n",
    "sns.violinplot(x='conservation_status', y='observations', data = all_data, order=['Endangered', 'Threatened', 'In Recovery', 'Species of Concern', 'Species of no concern'])\n",
    "plt.show()\n",
    "df_means\n"
   ]
  },
  {
   "cell_type": "markdown",
   "metadata": {},
   "source": [
    "## Conclusions"
   ]
  },
  {
   "cell_type": "markdown",
   "metadata": {},
   "source": [
    "In the analyzed dataset there were 79 Amphibians, 488 birds, 125 fish, 176 mammals, 333 nonvascular plants, 78 reptiles and 4262 vascular plants. Mammals are most likely to be placed under protection as 17% of all mammals from the dataset are considered protected species. Birds are second, with 15.3% of species under protection. On the other hand, only 1% of vascular plants from the dataset are protected.\n",
    "\n",
    "It appears that significant differences in the number of protected species are detected between each animal category and each plant category (e.g. amphibians and nonvascular plants; mammals and vascular plants, etc.), which is not surprising considering the relatively low % of protected species reported for plants when compared to animals.\n",
    "Significant differences within the animal kingdom were detected between mammals and reptiles. This is a strong indication that mammals are stastistically more likely to be under protection than reptiles.\n",
    "\n",
    "The observations from all four parks are normally distributed with discrepancies in the total number of observations reported by each park. The discrepancies can be partially explained by parks' relative sizes, although that explanation does not hold true in the case of the Great Smoky Mountains National Park.\n",
    "\n",
    "All parks have a similar percentage of observations of protected animals with Bryce National Park having the highest % (1.97%) and Great Smoky Mountains National Park the lowest (1.81%).\n",
    "\n",
    "The number of reported observations are strongly correlated with the conservation status - as the status is less severe, the number of observations tends to be higher."
   ]
  }
 ],
 "metadata": {
  "kernelspec": {
   "display_name": "Python 3 (ipykernel)",
   "language": "python",
   "name": "python3"
  },
  "language_info": {
   "codemirror_mode": {
    "name": "ipython",
    "version": 3
   },
   "file_extension": ".py",
   "mimetype": "text/x-python",
   "name": "python",
   "nbconvert_exporter": "python",
   "pygments_lexer": "ipython3",
   "version": "3.9.5"
  }
 },
 "nbformat": 4,
 "nbformat_minor": 4
}
